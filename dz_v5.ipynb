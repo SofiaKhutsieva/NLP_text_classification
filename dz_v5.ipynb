{
 "cells": [
  {
   "cell_type": "markdown",
   "id": "f3b4dccf-a94a-4bfd-a82c-572d4e725cfc",
   "metadata": {},
   "source": [
    "### Задача - классификатор текста\n",
    "вход - текст \n",
    "\n",
    "выход - одно значение\n",
    "\n",
    "Many-to-one \n"
   ]
  },
  {
   "cell_type": "code",
   "execution_count": 86,
   "id": "d7328092-57dc-4110-b059-84b311727a2c",
   "metadata": {},
   "outputs": [
    {
     "data": {
      "text/plain": [
       "'2.3.3'"
      ]
     },
     "execution_count": 86,
     "metadata": {},
     "output_type": "execute_result"
    }
   ],
   "source": [
    "tf.__version__"
   ]
  },
  {
   "cell_type": "code",
   "execution_count": 28,
   "id": "1d97ee5b-9e31-4d75-af20-b50a99b3aca1",
   "metadata": {
    "tags": []
   },
   "outputs": [
    {
     "name": "stderr",
     "output_type": "stream",
     "text": [
      "[nltk_data] Downloading package stopwords to\n",
      "[nltk_data]     C:\\Users\\София\\AppData\\Roaming\\nltk_data...\n",
      "[nltk_data]   Package stopwords is already up-to-date!\n",
      "[nltk_data] Downloading package wordnet to\n",
      "[nltk_data]     C:\\Users\\София\\AppData\\Roaming\\nltk_data...\n",
      "[nltk_data]   Package wordnet is already up-to-date!\n"
     ]
    }
   ],
   "source": [
    "import pandas as pd\n",
    "import numpy as np\n",
    "import matplotlib.pyplot as plt\n",
    "import re\n",
    "\n",
    "import nltk\n",
    "nltk.download('stopwords')\n",
    "nltk.download('wordnet')\n",
    "lemma = nltk.wordnet.WordNetLemmatizer()\n",
    "import string\n",
    "import pymorphy2\n",
    "morph = pymorphy2.MorphAnalyzer()\n",
    "\n",
    "import tensorflow as tf\n",
    "from sklearn.model_selection import train_test_split\n",
    "from sklearn.model_selection import GridSearchCV\n",
    "#from keras.wrappers.scikit_learn import KerasClassifier\n",
    "\n",
    "import os\n",
    "import pathlib\n",
    "from pathlib import Path\n",
    "\n",
    "from collections import Counter"
   ]
  },
  {
   "cell_type": "code",
   "execution_count": null,
   "id": "cba13a01-1ef2-4055-b561-4f635be7f0ff",
   "metadata": {},
   "outputs": [],
   "source": []
  },
  {
   "cell_type": "markdown",
   "id": "03b13e34-3766-4044-a706-0c49b2ca2a68",
   "metadata": {},
   "source": [
    "## 1. Загрузка данных"
   ]
  },
  {
   "cell_type": "code",
   "execution_count": 29,
   "id": "05a82270-04fe-4d3a-a2ca-8194fe0b2d3c",
   "metadata": {},
   "outputs": [],
   "source": [
    "# загружаем файл тестовых данных\n",
    "read_file_path = 'test_data_solution.txt'\n",
    "a = []\n",
    "with open(read_file_path, 'r', encoding=\"utf-8\") as file:\n",
    "    for line in file:\n",
    "        a.append(line)"
   ]
  },
  {
   "cell_type": "code",
   "execution_count": 30,
   "id": "5bf453fa-f805-4b5c-b0c2-c83e44954ff9",
   "metadata": {},
   "outputs": [],
   "source": [
    "# загружаем файл тренировочных данных\n",
    "read_file_path = 'train_data.txt'\n",
    "b = []\n",
    "with open(read_file_path, 'r', encoding=\"utf-8\") as file:\n",
    "    for line in file:\n",
    "        b.append(line)"
   ]
  },
  {
   "cell_type": "markdown",
   "id": "ee83dde4-6db4-4dbb-913e-d82574d7f6df",
   "metadata": {},
   "source": [
    "*Description*\n",
    "\n",
    "Train data:\\\n",
    "ID ::: TITLE ::: GENRE ::: DESCRIPTION\\\n",
    "ID ::: TITLE ::: GENRE ::: DESCRIPTION\\\n",
    "ID ::: TITLE ::: GENRE ::: DESCRIPTION\\\n",
    "ID ::: TITLE ::: GENRE ::: DESCRIPTION\n",
    "\n",
    "Test data:\\\n",
    "ID ::: TITLE ::: DESCRIPTION\\\n",
    "ID ::: TITLE ::: DESCRIPTION\\\n",
    "ID ::: TITLE ::: DESCRIPTION\\\n",
    "ID ::: TITLE ::: DESCRIPTION"
   ]
  },
  {
   "cell_type": "code",
   "execution_count": 31,
   "id": "de491c00-78ce-4eed-a6a0-2e469a1c04c6",
   "metadata": {},
   "outputs": [],
   "source": [
    "def genre_descr(abc):\n",
    "# извлекаем жанр и описание\n",
    "    genre = []\n",
    "    descr = []\n",
    "    for a_ in abc:\n",
    "        start1 = a_.find(':')\n",
    "        if a_[start1 + 1] == ':' and a_[start1 + 2] == ':':\n",
    "            a_ = ''.join([a_[i] for i in range(len(a_)) if i != start1 and i != start1 + 1 and i != start1 + 2]) # удаление первых :::\n",
    "            while True:\n",
    "                start2 = a_.find(':')\n",
    "                if a_[start2 + 1] != ':':\n",
    "                    a_ = a_.replace(a_[start2], '', 1) # удаление : внутри названия\n",
    "                else:\n",
    "                    break            \n",
    "            start2 = a_.find(':')    \n",
    "            if a_[start2 + 1] == ':' and a_[start2 + 2] == ':':\n",
    "                a_ = a_.replace(a_[: start2], '')  # удаление слов до первых :::\n",
    "                start1 = a_.find(':')\n",
    "                if a_[start1 + 1] == ':' and a_[start1 + 2] == ':':\n",
    "                    a_ = ''.join([a_[i] for i in range(len(a_)) if i != start1 and i != start1 + 1 and i != start1 + 2 and i != start1 + 3]) # удаление вторых :::\n",
    "                    genre.append(a_[: a_.find(':') - 1]) # жанр\n",
    "                    descr.append(a_[a_.find(':') + 4 :-1]) # описание\n",
    "    return genre, descr\n",
    "    "
   ]
  },
  {
   "cell_type": "code",
   "execution_count": 32,
   "id": "0d614329-a8dc-47d3-bde6-1864e65d67c3",
   "metadata": {},
   "outputs": [],
   "source": [
    "genre_test, descr_test = genre_descr(a)\n",
    "genre_train, descr_train = genre_descr(b)\n",
    "len(genre_train), len(genre_test)"
   ]
  },
  {
   "cell_type": "code",
   "execution_count": 34,
   "id": "2557ff17-fbc9-4c46-b472-7c1af121ef14",
   "metadata": {},
   "outputs": [
    {
     "data": {
      "text/plain": [
       "([('drama', 13611),\n",
       "  ('documentary', 13096),\n",
       "  ('comedy', 7446),\n",
       "  ('short', 5072),\n",
       "  ('horror', 2204),\n",
       "  ('thriller', 1590),\n",
       "  ('action', 1314),\n",
       "  ('western', 1032),\n",
       "  ('reality-tv', 883),\n",
       "  ('family', 783),\n",
       "  ('adventure', 775),\n",
       "  ('music', 731),\n",
       "  ('romance', 672),\n",
       "  ('sci-fi', 646),\n",
       "  ('adult', 590),\n",
       "  ('crime', 505),\n",
       "  ('animation', 498),\n",
       "  ('sport', 431),\n",
       "  ('talk-show', 391),\n",
       "  ('fantasy', 322),\n",
       "  ('mystery', 318),\n",
       "  ('musical', 276),\n",
       "  ('biography', 264),\n",
       "  ('history', 243),\n",
       "  ('game-show', 193),\n",
       "  ('news', 181),\n",
       "  ('war', 132)],\n",
       " [('drama', 13613),\n",
       "  ('documentary', 13096),\n",
       "  ('comedy', 7447),\n",
       "  ('short', 5072),\n",
       "  ('horror', 2204),\n",
       "  ('thriller', 1591),\n",
       "  ('action', 1315),\n",
       "  ('western', 1032),\n",
       "  ('reality-tv', 884),\n",
       "  ('family', 784),\n",
       "  ('adventure', 775),\n",
       "  ('music', 731),\n",
       "  ('romance', 672),\n",
       "  ('sci-fi', 647),\n",
       "  ('adult', 590),\n",
       "  ('crime', 505),\n",
       "  ('animation', 498),\n",
       "  ('sport', 432),\n",
       "  ('talk-show', 391),\n",
       "  ('fantasy', 323),\n",
       "  ('mystery', 319),\n",
       "  ('musical', 277),\n",
       "  ('biography', 265),\n",
       "  ('history', 243),\n",
       "  ('game-show', 194),\n",
       "  ('news', 181),\n",
       "  ('war', 132)])"
      ]
     },
     "execution_count": 34,
     "metadata": {},
     "output_type": "execute_result"
    }
   ],
   "source": [
    "Counter(genre_test).most_common(), Counter(genre_train).most_common()"
   ]
  },
  {
   "cell_type": "code",
   "execution_count": 35,
   "id": "9a0c7dce-28b1-4285-bf87-193c54c9721b",
   "metadata": {},
   "outputs": [],
   "source": [
    "# df1 - таблица с тренировочными данными\n",
    "# df2 - таблица с тестовыми данными\n",
    "\n",
    "df1 = pd.DataFrame( \n",
    "columns=['descr_train', 'genre_train'])\n",
    "df1.genre_train = genre_train\n",
    "df1.descr_train = descr_train\n",
    "\n",
    "df2 = pd.DataFrame( \n",
    "columns=['descr_test', 'genre_test'])\n",
    "df2.genre_test = genre_test\n",
    "df2.descr_test = descr_test"
   ]
  },
  {
   "cell_type": "code",
   "execution_count": 36,
   "id": "6859c6ee-d8a7-45df-82bd-e36cf429dd48",
   "metadata": {},
   "outputs": [
    {
     "data": {
      "text/html": [
       "<div>\n",
       "<style scoped>\n",
       "    .dataframe tbody tr th:only-of-type {\n",
       "        vertical-align: middle;\n",
       "    }\n",
       "\n",
       "    .dataframe tbody tr th {\n",
       "        vertical-align: top;\n",
       "    }\n",
       "\n",
       "    .dataframe thead th {\n",
       "        text-align: right;\n",
       "    }\n",
       "</style>\n",
       "<table border=\"1\" class=\"dataframe\">\n",
       "  <thead>\n",
       "    <tr style=\"text-align: right;\">\n",
       "      <th></th>\n",
       "      <th>descr_train</th>\n",
       "      <th>genre_train</th>\n",
       "    </tr>\n",
       "  </thead>\n",
       "  <tbody>\n",
       "    <tr>\n",
       "      <th>0</th>\n",
       "      <td>Listening in to a conversation between his doc...</td>\n",
       "      <td>drama</td>\n",
       "    </tr>\n",
       "    <tr>\n",
       "      <th>1</th>\n",
       "      <td>A brother and sister with a past incestuous re...</td>\n",
       "      <td>thriller</td>\n",
       "    </tr>\n",
       "    <tr>\n",
       "      <th>2</th>\n",
       "      <td>As the bus empties the students for their fiel...</td>\n",
       "      <td>adult</td>\n",
       "    </tr>\n",
       "    <tr>\n",
       "      <th>3</th>\n",
       "      <td>To help their unemployed father make ends meet...</td>\n",
       "      <td>drama</td>\n",
       "    </tr>\n",
       "    <tr>\n",
       "      <th>4</th>\n",
       "      <td>The film's title refers not only to the un-rec...</td>\n",
       "      <td>drama</td>\n",
       "    </tr>\n",
       "  </tbody>\n",
       "</table>\n",
       "</div>"
      ],
      "text/plain": [
       "                                         descr_train genre_train\n",
       "0  Listening in to a conversation between his doc...       drama\n",
       "1  A brother and sister with a past incestuous re...    thriller\n",
       "2  As the bus empties the students for their fiel...       adult\n",
       "3  To help their unemployed father make ends meet...       drama\n",
       "4  The film's title refers not only to the un-rec...       drama"
      ]
     },
     "execution_count": 36,
     "metadata": {},
     "output_type": "execute_result"
    }
   ],
   "source": [
    "df1.head()"
   ]
  },
  {
   "cell_type": "code",
   "execution_count": 37,
   "id": "c587887f-cf38-46c3-a960-99df8da3c471",
   "metadata": {},
   "outputs": [
    {
     "data": {
      "text/html": [
       "<div>\n",
       "<style scoped>\n",
       "    .dataframe tbody tr th:only-of-type {\n",
       "        vertical-align: middle;\n",
       "    }\n",
       "\n",
       "    .dataframe tbody tr th {\n",
       "        vertical-align: top;\n",
       "    }\n",
       "\n",
       "    .dataframe thead th {\n",
       "        text-align: right;\n",
       "    }\n",
       "</style>\n",
       "<table border=\"1\" class=\"dataframe\">\n",
       "  <thead>\n",
       "    <tr style=\"text-align: right;\">\n",
       "      <th></th>\n",
       "      <th>descr_test</th>\n",
       "      <th>genre_test</th>\n",
       "    </tr>\n",
       "  </thead>\n",
       "  <tbody>\n",
       "    <tr>\n",
       "      <th>0</th>\n",
       "      <td>L.R. Brane loves his life - his car, his apart...</td>\n",
       "      <td>thriller</td>\n",
       "    </tr>\n",
       "    <tr>\n",
       "      <th>1</th>\n",
       "      <td>Spain, March 1964: Quico is a very naughty chi...</td>\n",
       "      <td>comedy</td>\n",
       "    </tr>\n",
       "    <tr>\n",
       "      <th>2</th>\n",
       "      <td>One year in the life of Albin and his family o...</td>\n",
       "      <td>documentary</td>\n",
       "    </tr>\n",
       "    <tr>\n",
       "      <th>3</th>\n",
       "      <td>His father has died, he hasn't spoken with his...</td>\n",
       "      <td>drama</td>\n",
       "    </tr>\n",
       "    <tr>\n",
       "      <th>4</th>\n",
       "      <td>Before he was known internationally as a marti...</td>\n",
       "      <td>drama</td>\n",
       "    </tr>\n",
       "  </tbody>\n",
       "</table>\n",
       "</div>"
      ],
      "text/plain": [
       "                                          descr_test   genre_test\n",
       "0  L.R. Brane loves his life - his car, his apart...     thriller\n",
       "1  Spain, March 1964: Quico is a very naughty chi...       comedy\n",
       "2  One year in the life of Albin and his family o...  documentary\n",
       "3  His father has died, he hasn't spoken with his...        drama\n",
       "4  Before he was known internationally as a marti...        drama"
      ]
     },
     "execution_count": 37,
     "metadata": {},
     "output_type": "execute_result"
    }
   ],
   "source": [
    "df2.head()"
   ]
  },
  {
   "cell_type": "code",
   "execution_count": null,
   "id": "8cdb9ec1-31a5-4df3-aef8-dfb136bd81d8",
   "metadata": {},
   "outputs": [],
   "source": []
  },
  {
   "cell_type": "markdown",
   "id": "04930905-f4ef-481b-83fe-62f07e16d90e",
   "metadata": {},
   "source": [
    "## 2. Предварительная обработка текста"
   ]
  },
  {
   "cell_type": "markdown",
   "id": "102f38df-e920-42dc-b6f2-213c736e1638",
   "metadata": {},
   "source": [
    "### 2.1 Токенизация по словам"
   ]
  },
  {
   "cell_type": "code",
   "execution_count": 38,
   "id": "5bf1ef43-fbe4-4ab7-ba1b-043ffe776766",
   "metadata": {},
   "outputs": [],
   "source": [
    "stop_words = nltk.corpus.stopwords.words('english') # стоп слова для русского языка\n",
    "def tokenize_text(raw_text: str):\n",
    "    \"\"\"Функция для токенизации текста\n",
    "    \n",
    "    :param raw_text: исходная текстовая строка\n",
    "    \"\"\"\n",
    "    res = raw_text\n",
    "    res = re.compile('[\\d]').sub('', res) # удаление всех цифр\n",
    "    res = re.compile('[^\\w\\s]').sub('', res) # удаление всех знаков\n",
    "    res = ''.join(re.findall(r'[\\s^a-zA-Z]+|[\\d]+|[^\\w\\s]', res)) #удаляем иностранные буквы\n",
    "    res = nltk.word_tokenize(res.lower()) # разбиение по словам\n",
    "    res = [i for i in res if (i not in stop_words )] # удаление стоп-слов\n",
    "    res = [lemma.lemmatize(word) for word in res] # приведение к нормальной форме для англ. языка \n",
    "    return res"
   ]
  },
  {
   "cell_type": "code",
   "execution_count": 39,
   "id": "35c1870d-f981-4773-aa08-112e82dfb9ef",
   "metadata": {},
   "outputs": [],
   "source": [
    "tokenized_text1 = [tokenize_text(data) for data in descr_train]\n",
    "tokenized_text2 = [tokenize_text(data) for data in descr_test]\n",
    "\n",
    "# # применяем функцию к датафрейму \n",
    "# tokenized_text1= df1.descr_train.apply(tokenize_text)\n",
    "\n",
    "# # применяем функцию к датафрейму \n",
    "# tokenized_text2= df2.descr_test.apply(tokenize_text)"
   ]
  },
  {
   "cell_type": "code",
   "execution_count": 40,
   "id": "8b36dbf7-a22a-496c-b6ed-12bc88680ed4",
   "metadata": {},
   "outputs": [],
   "source": [
    "# добавляем новую колонку в исходный датафрейм\n",
    "df1 = df1.assign(\n",
    "    tokenized_text=tokenized_text1\n",
    ")\n",
    "\n",
    "# добавляем новую колонку в исходный датафрейм\n",
    "df2 = df2.assign(\n",
    "    tokenized_text=tokenized_text2\n",
    ")"
   ]
  },
  {
   "cell_type": "code",
   "execution_count": 41,
   "id": "b76e201b-4e46-4ae6-9c09-f9551e31bc04",
   "metadata": {},
   "outputs": [
    {
     "data": {
      "text/html": [
       "<div>\n",
       "<style scoped>\n",
       "    .dataframe tbody tr th:only-of-type {\n",
       "        vertical-align: middle;\n",
       "    }\n",
       "\n",
       "    .dataframe tbody tr th {\n",
       "        vertical-align: top;\n",
       "    }\n",
       "\n",
       "    .dataframe thead th {\n",
       "        text-align: right;\n",
       "    }\n",
       "</style>\n",
       "<table border=\"1\" class=\"dataframe\">\n",
       "  <thead>\n",
       "    <tr style=\"text-align: right;\">\n",
       "      <th></th>\n",
       "      <th>descr_train</th>\n",
       "      <th>genre_train</th>\n",
       "      <th>tokenized_text</th>\n",
       "    </tr>\n",
       "  </thead>\n",
       "  <tbody>\n",
       "    <tr>\n",
       "      <th>0</th>\n",
       "      <td>Listening in to a conversation between his doc...</td>\n",
       "      <td>drama</td>\n",
       "      <td>[listening, conversation, doctor, parent, year...</td>\n",
       "    </tr>\n",
       "    <tr>\n",
       "      <th>1</th>\n",
       "      <td>A brother and sister with a past incestuous re...</td>\n",
       "      <td>thriller</td>\n",
       "      <td>[brother, sister, past, incestuous, relationsh...</td>\n",
       "    </tr>\n",
       "    <tr>\n",
       "      <th>2</th>\n",
       "      <td>As the bus empties the students for their fiel...</td>\n",
       "      <td>adult</td>\n",
       "      <td>[bus, empty, student, field, trip, museum, nat...</td>\n",
       "    </tr>\n",
       "    <tr>\n",
       "      <th>3</th>\n",
       "      <td>To help their unemployed father make ends meet...</td>\n",
       "      <td>drama</td>\n",
       "      <td>[help, unemployed, father, make, end, meet, ed...</td>\n",
       "    </tr>\n",
       "    <tr>\n",
       "      <th>4</th>\n",
       "      <td>The film's title refers not only to the un-rec...</td>\n",
       "      <td>drama</td>\n",
       "      <td>[film, title, refers, unrecovered, body, groun...</td>\n",
       "    </tr>\n",
       "  </tbody>\n",
       "</table>\n",
       "</div>"
      ],
      "text/plain": [
       "                                         descr_train genre_train  \\\n",
       "0  Listening in to a conversation between his doc...       drama   \n",
       "1  A brother and sister with a past incestuous re...    thriller   \n",
       "2  As the bus empties the students for their fiel...       adult   \n",
       "3  To help their unemployed father make ends meet...       drama   \n",
       "4  The film's title refers not only to the un-rec...       drama   \n",
       "\n",
       "                                      tokenized_text  \n",
       "0  [listening, conversation, doctor, parent, year...  \n",
       "1  [brother, sister, past, incestuous, relationsh...  \n",
       "2  [bus, empty, student, field, trip, museum, nat...  \n",
       "3  [help, unemployed, father, make, end, meet, ed...  \n",
       "4  [film, title, refers, unrecovered, body, groun...  "
      ]
     },
     "execution_count": 41,
     "metadata": {},
     "output_type": "execute_result"
    }
   ],
   "source": [
    "df1.head()"
   ]
  },
  {
   "cell_type": "code",
   "execution_count": 42,
   "id": "6ff6ae23-714c-4b80-949e-950c5f248b6e",
   "metadata": {},
   "outputs": [
    {
     "data": {
      "text/html": [
       "<div>\n",
       "<style scoped>\n",
       "    .dataframe tbody tr th:only-of-type {\n",
       "        vertical-align: middle;\n",
       "    }\n",
       "\n",
       "    .dataframe tbody tr th {\n",
       "        vertical-align: top;\n",
       "    }\n",
       "\n",
       "    .dataframe thead th {\n",
       "        text-align: right;\n",
       "    }\n",
       "</style>\n",
       "<table border=\"1\" class=\"dataframe\">\n",
       "  <thead>\n",
       "    <tr style=\"text-align: right;\">\n",
       "      <th></th>\n",
       "      <th>descr_test</th>\n",
       "      <th>genre_test</th>\n",
       "      <th>tokenized_text</th>\n",
       "    </tr>\n",
       "  </thead>\n",
       "  <tbody>\n",
       "    <tr>\n",
       "      <th>0</th>\n",
       "      <td>L.R. Brane loves his life - his car, his apart...</td>\n",
       "      <td>thriller</td>\n",
       "      <td>[lr, brane, love, life, car, apartment, job, e...</td>\n",
       "    </tr>\n",
       "    <tr>\n",
       "      <th>1</th>\n",
       "      <td>Spain, March 1964: Quico is a very naughty chi...</td>\n",
       "      <td>comedy</td>\n",
       "      <td>[spain, march, quico, naughty, child, three, b...</td>\n",
       "    </tr>\n",
       "    <tr>\n",
       "      <th>2</th>\n",
       "      <td>One year in the life of Albin and his family o...</td>\n",
       "      <td>documentary</td>\n",
       "      <td>[one, year, life, albin, family, shepherd, nor...</td>\n",
       "    </tr>\n",
       "    <tr>\n",
       "      <th>3</th>\n",
       "      <td>His father has died, he hasn't spoken with his...</td>\n",
       "      <td>drama</td>\n",
       "      <td>[father, died, hasnt, spoken, brother, year, s...</td>\n",
       "    </tr>\n",
       "    <tr>\n",
       "      <th>4</th>\n",
       "      <td>Before he was known internationally as a marti...</td>\n",
       "      <td>drama</td>\n",
       "      <td>[known, internationally, martial, art, superst...</td>\n",
       "    </tr>\n",
       "  </tbody>\n",
       "</table>\n",
       "</div>"
      ],
      "text/plain": [
       "                                          descr_test   genre_test  \\\n",
       "0  L.R. Brane loves his life - his car, his apart...     thriller   \n",
       "1  Spain, March 1964: Quico is a very naughty chi...       comedy   \n",
       "2  One year in the life of Albin and his family o...  documentary   \n",
       "3  His father has died, he hasn't spoken with his...        drama   \n",
       "4  Before he was known internationally as a marti...        drama   \n",
       "\n",
       "                                      tokenized_text  \n",
       "0  [lr, brane, love, life, car, apartment, job, e...  \n",
       "1  [spain, march, quico, naughty, child, three, b...  \n",
       "2  [one, year, life, albin, family, shepherd, nor...  \n",
       "3  [father, died, hasnt, spoken, brother, year, s...  \n",
       "4  [known, internationally, martial, art, superst...  "
      ]
     },
     "execution_count": 42,
     "metadata": {},
     "output_type": "execute_result"
    }
   ],
   "source": [
    "df2.head()"
   ]
  },
  {
   "cell_type": "code",
   "execution_count": null,
   "id": "2cfd7dc0-477b-48da-a801-eac124849901",
   "metadata": {},
   "outputs": [],
   "source": []
  },
  {
   "cell_type": "markdown",
   "id": "5927d4ca-734e-4b1f-82c0-ebcf3c870d94",
   "metadata": {},
   "source": [
    "### 2.2 Составление словаря"
   ]
  },
  {
   "cell_type": "markdown",
   "id": "380df902-cf91-45e6-ab04-a127093a82f0",
   "metadata": {},
   "source": [
    "#### 2.2.1 Метки"
   ]
  },
  {
   "cell_type": "code",
   "execution_count": 43,
   "id": "ccc8af6b-9178-461f-83df-231a7d99bce7",
   "metadata": {},
   "outputs": [
    {
     "data": {
      "text/plain": [
       "array(['drama', 'thriller', 'adult', 'documentary', 'comedy', 'crime',\n",
       "       'reality-tv', 'horror', 'sport', 'animation', 'action', 'fantasy',\n",
       "       'short', 'sci-fi', 'music', 'adventure', 'talk-show', 'western',\n",
       "       'family', 'mystery', 'history', 'news', 'biography', 'romance',\n",
       "       'game-show', 'musical', 'war'], dtype=object)"
      ]
     },
     "execution_count": 43,
     "metadata": {},
     "output_type": "execute_result"
    }
   ],
   "source": [
    "df1.genre_train.unique()"
   ]
  },
  {
   "cell_type": "code",
   "execution_count": 44,
   "id": "98ee7d4a-cc34-47ff-b5a0-4298c1c2cbbd",
   "metadata": {},
   "outputs": [],
   "source": [
    "# словарь меток\n",
    "dict_labels = {name : i for (i, name) in enumerate(df1.genre_train.unique())} # слово - цифра\n",
    "dict_labels_ = {name : i for (i, name) in dict_labels.items()} # цифра - слово\n",
    "\n",
    "# метки в цифры\n",
    "def labels_to_num(text):\n",
    "    text_index = dict_labels[text] \n",
    "    return text_index\n",
    "\n",
    "label_num1 = [labels_to_num(data) for data in genre_train]\n",
    "label_num2 = [labels_to_num(data) for data in genre_test]\n",
    "\n",
    "# # применяем функцию к датафрейму \n",
    "# label_num= df1.genre_train.apply(labels_to_num)\n",
    "\n",
    "# # применяем функцию к датафрейму \n",
    "# label_num= df2.genre_test.apply(labels_to_num)"
   ]
  },
  {
   "cell_type": "code",
   "execution_count": 45,
   "id": "cf3a74fb-32c5-4dca-ad31-9eaa45742cf9",
   "metadata": {},
   "outputs": [],
   "source": [
    "# добавляем новую колонку в исходный датафрейм\n",
    "df1 = df1.assign(\n",
    "    label_num=label_num1\n",
    ")\n",
    "\n",
    "# добавляем новую колонку в исходный датафрейм\n",
    "df2 = df2.assign(\n",
    "    label_num=label_num2\n",
    ")"
   ]
  },
  {
   "cell_type": "code",
   "execution_count": 46,
   "id": "ba940abb-384f-4e54-8849-c72b2e2086c0",
   "metadata": {},
   "outputs": [
    {
     "data": {
      "text/html": [
       "<div>\n",
       "<style scoped>\n",
       "    .dataframe tbody tr th:only-of-type {\n",
       "        vertical-align: middle;\n",
       "    }\n",
       "\n",
       "    .dataframe tbody tr th {\n",
       "        vertical-align: top;\n",
       "    }\n",
       "\n",
       "    .dataframe thead th {\n",
       "        text-align: right;\n",
       "    }\n",
       "</style>\n",
       "<table border=\"1\" class=\"dataframe\">\n",
       "  <thead>\n",
       "    <tr style=\"text-align: right;\">\n",
       "      <th></th>\n",
       "      <th>descr_train</th>\n",
       "      <th>genre_train</th>\n",
       "      <th>tokenized_text</th>\n",
       "      <th>label_num</th>\n",
       "    </tr>\n",
       "  </thead>\n",
       "  <tbody>\n",
       "    <tr>\n",
       "      <th>0</th>\n",
       "      <td>Listening in to a conversation between his doc...</td>\n",
       "      <td>drama</td>\n",
       "      <td>[listening, conversation, doctor, parent, year...</td>\n",
       "      <td>0</td>\n",
       "    </tr>\n",
       "    <tr>\n",
       "      <th>1</th>\n",
       "      <td>A brother and sister with a past incestuous re...</td>\n",
       "      <td>thriller</td>\n",
       "      <td>[brother, sister, past, incestuous, relationsh...</td>\n",
       "      <td>1</td>\n",
       "    </tr>\n",
       "    <tr>\n",
       "      <th>2</th>\n",
       "      <td>As the bus empties the students for their fiel...</td>\n",
       "      <td>adult</td>\n",
       "      <td>[bus, empty, student, field, trip, museum, nat...</td>\n",
       "      <td>2</td>\n",
       "    </tr>\n",
       "    <tr>\n",
       "      <th>3</th>\n",
       "      <td>To help their unemployed father make ends meet...</td>\n",
       "      <td>drama</td>\n",
       "      <td>[help, unemployed, father, make, end, meet, ed...</td>\n",
       "      <td>0</td>\n",
       "    </tr>\n",
       "    <tr>\n",
       "      <th>4</th>\n",
       "      <td>The film's title refers not only to the un-rec...</td>\n",
       "      <td>drama</td>\n",
       "      <td>[film, title, refers, unrecovered, body, groun...</td>\n",
       "      <td>0</td>\n",
       "    </tr>\n",
       "  </tbody>\n",
       "</table>\n",
       "</div>"
      ],
      "text/plain": [
       "                                         descr_train genre_train  \\\n",
       "0  Listening in to a conversation between his doc...       drama   \n",
       "1  A brother and sister with a past incestuous re...    thriller   \n",
       "2  As the bus empties the students for their fiel...       adult   \n",
       "3  To help their unemployed father make ends meet...       drama   \n",
       "4  The film's title refers not only to the un-rec...       drama   \n",
       "\n",
       "                                      tokenized_text  label_num  \n",
       "0  [listening, conversation, doctor, parent, year...          0  \n",
       "1  [brother, sister, past, incestuous, relationsh...          1  \n",
       "2  [bus, empty, student, field, trip, museum, nat...          2  \n",
       "3  [help, unemployed, father, make, end, meet, ed...          0  \n",
       "4  [film, title, refers, unrecovered, body, groun...          0  "
      ]
     },
     "execution_count": 46,
     "metadata": {},
     "output_type": "execute_result"
    }
   ],
   "source": [
    "df1.head()"
   ]
  },
  {
   "cell_type": "code",
   "execution_count": null,
   "id": "59a7df76-7dd3-458c-bcc9-3be64c160ccf",
   "metadata": {},
   "outputs": [],
   "source": []
  },
  {
   "cell_type": "markdown",
   "id": "fec68936-5793-425d-8225-6359aa1cdae4",
   "metadata": {},
   "source": [
    "#### 2.2.2 Признаки"
   ]
  },
  {
   "cell_type": "code",
   "execution_count": 47,
   "id": "df3fabcd-5121-4faa-bf88-2269656673f0",
   "metadata": {
    "tags": []
   },
   "outputs": [
    {
     "data": {
      "text/plain": [
       "(6163007, 5590978)"
      ]
     },
     "execution_count": 47,
     "metadata": {},
     "output_type": "execute_result"
    }
   ],
   "source": [
    "# Словарь из всех встречающихся слов\n",
    "a = []\n",
    "for i in range(df1.shape[0]):\n",
    "    a += df1.tokenized_text[i]\n",
    "b = []\n",
    "for i in range(df2.shape[0]):\n",
    "    b += df2.tokenized_text[i]\n",
    "c = a + b\n",
    "\n",
    "# удаляем слова длиной меньше 3 символов\n",
    "c_ = [word for word in c if (len(word) > 3)]\n",
    "len(c), len(c_)"
   ]
  },
  {
   "cell_type": "code",
   "execution_count": 48,
   "id": "31fb32eb-66a0-4a5d-8d1e-6c7187e85938",
   "metadata": {},
   "outputs": [
    {
     "data": {
      "text/plain": [
       "202563"
      ]
     },
     "execution_count": 48,
     "metadata": {},
     "output_type": "execute_result"
    }
   ],
   "source": [
    "dict_un = list(dict(Counter(c_)).keys())\n",
    "len(dict_un)"
   ]
  },
  {
   "cell_type": "code",
   "execution_count": 49,
   "id": "f31fb309-c5a4-430b-82b4-853d08817a97",
   "metadata": {},
   "outputs": [
    {
     "data": {
      "text/plain": [
       "(202563, 6846)"
      ]
     },
     "execution_count": 49,
     "metadata": {},
     "output_type": "execute_result"
    }
   ],
   "source": [
    "# оставляем слова, которые встречаются более n_c раз\n",
    "c_un = dict_un\n",
    "n_c = 100 # 0 - если оставляем все слова\n",
    "count = dict(Counter(c_))\n",
    "c_un_ = []\n",
    "for word in c_un:\n",
    "    if count[word] > n_c:\n",
    "        c_un_.append(word)\n",
    "len(c_un), len(c_un_)"
   ]
  },
  {
   "cell_type": "code",
   "execution_count": 50,
   "id": "b7404e1c-3055-4aae-a558-a2738be73273",
   "metadata": {},
   "outputs": [],
   "source": [
    "dict_text = {name : i for (i, name) in enumerate(c_un_)}\n",
    "dict_text[\"<UNKNOWN>\"] = len(dict_text) # если встретится слово не из словаря\n",
    "dict_text[\"<PAD>\"] = len(dict_text) # для паддинга\n",
    "#dict_text"
   ]
  },
  {
   "cell_type": "code",
   "execution_count": 51,
   "id": "1d088ac2-4517-414a-a75e-df312bb04869",
   "metadata": {},
   "outputs": [
    {
     "data": {
      "text/plain": [
       "(6846, 6848)"
      ]
     },
     "execution_count": 51,
     "metadata": {},
     "output_type": "execute_result"
    }
   ],
   "source": [
    "len(c_un_), len(dict_text)"
   ]
  },
  {
   "cell_type": "code",
   "execution_count": null,
   "id": "77aad770-21d6-47bd-a5ef-045fc20fe616",
   "metadata": {},
   "outputs": [],
   "source": []
  },
  {
   "cell_type": "markdown",
   "id": "0f261ba4-c846-481b-85de-9f601efc4048",
   "metadata": {},
   "source": [
    "### 2.3 Токенизация по индексам"
   ]
  },
  {
   "cell_type": "code",
   "execution_count": 52,
   "id": "ca26992a-331f-450e-b5cd-0df86c342cc1",
   "metadata": {},
   "outputs": [],
   "source": [
    "def text_to_index(text):\n",
    "    text_index = [dict_text.get(word, dict_text['<UNKNOWN>']) for word in text if word in dict_text] #[dict_text[word] for word in text]\n",
    "    return text_index"
   ]
  },
  {
   "cell_type": "code",
   "execution_count": 53,
   "id": "6f16aa2e-8200-4a12-84bc-f95cf2977dbd",
   "metadata": {},
   "outputs": [],
   "source": [
    "# текст в последовательность индексов\n",
    "def text_to_index(text):\n",
    "    text_index = [dict_text.get(word, dict_text['<UNKNOWN>']) for word in text] #[dict_text[word] for word in text]\n",
    "    return text_index\n",
    "\n",
    "tokenized_text_index1 = [text_to_index(data) for data in tokenized_text1]\n",
    "tokenized_text_index2 = [text_to_index(data) for data in tokenized_text2]\n",
    "\n",
    "# # применяем функцию к датафрейму \n",
    "# tokenized_text_index= df1.tokenized_text.apply(text_to_index)\n",
    "\n",
    "# # применяем функцию к датафрейму \n",
    "# tokenized_text_index= df2.tokenized_text.apply(text_to_index)"
   ]
  },
  {
   "cell_type": "code",
   "execution_count": 54,
   "id": "7ab6f152-01dc-422e-9475-af67eba520d9",
   "metadata": {},
   "outputs": [],
   "source": [
    "# добавляем новую колонку в исходный датафрейм\n",
    "df1 = df1.assign(\n",
    "    tokenized_text_index=tokenized_text_index1\n",
    ")\n",
    "\n",
    "# добавляем новую колонку в исходный датафрейм\n",
    "df2 = df2.assign(\n",
    "    tokenized_text_index=tokenized_text_index2\n",
    ")"
   ]
  },
  {
   "cell_type": "code",
   "execution_count": 55,
   "id": "5de716f5-646c-4098-8a0c-6b981326e278",
   "metadata": {},
   "outputs": [
    {
     "data": {
      "text/html": [
       "<div>\n",
       "<style scoped>\n",
       "    .dataframe tbody tr th:only-of-type {\n",
       "        vertical-align: middle;\n",
       "    }\n",
       "\n",
       "    .dataframe tbody tr th {\n",
       "        vertical-align: top;\n",
       "    }\n",
       "\n",
       "    .dataframe thead th {\n",
       "        text-align: right;\n",
       "    }\n",
       "</style>\n",
       "<table border=\"1\" class=\"dataframe\">\n",
       "  <thead>\n",
       "    <tr style=\"text-align: right;\">\n",
       "      <th></th>\n",
       "      <th>descr_train</th>\n",
       "      <th>genre_train</th>\n",
       "      <th>tokenized_text</th>\n",
       "      <th>label_num</th>\n",
       "      <th>tokenized_text_index</th>\n",
       "    </tr>\n",
       "  </thead>\n",
       "  <tbody>\n",
       "    <tr>\n",
       "      <th>0</th>\n",
       "      <td>Listening in to a conversation between his doc...</td>\n",
       "      <td>drama</td>\n",
       "      <td>[listening, conversation, doctor, parent, year...</td>\n",
       "      <td>0</td>\n",
       "      <td>[0, 1, 2, 3, 4, 5, 6, 7, 8, 9, 10, 11, 12, 13,...</td>\n",
       "    </tr>\n",
       "    <tr>\n",
       "      <th>1</th>\n",
       "      <td>A brother and sister with a past incestuous re...</td>\n",
       "      <td>thriller</td>\n",
       "      <td>[brother, sister, past, incestuous, relationsh...</td>\n",
       "      <td>1</td>\n",
       "      <td>[39, 40, 41, 6846, 42, 43, 44, 42, 45, 46, 47,...</td>\n",
       "    </tr>\n",
       "    <tr>\n",
       "      <th>2</th>\n",
       "      <td>As the bus empties the students for their fiel...</td>\n",
       "      <td>adult</td>\n",
       "      <td>[bus, empty, student, field, trip, museum, nat...</td>\n",
       "      <td>2</td>\n",
       "      <td>[6846, 49, 50, 51, 52, 53, 54, 55, 56, 57, 58,...</td>\n",
       "    </tr>\n",
       "    <tr>\n",
       "      <th>3</th>\n",
       "      <td>To help their unemployed father make ends meet...</td>\n",
       "      <td>drama</td>\n",
       "      <td>[help, unemployed, father, make, end, meet, ed...</td>\n",
       "      <td>0</td>\n",
       "      <td>[86, 87, 88, 89, 6846, 20, 90, 91, 40, 92, 93,...</td>\n",
       "    </tr>\n",
       "    <tr>\n",
       "      <th>4</th>\n",
       "      <td>The film's title refers not only to the un-rec...</td>\n",
       "      <td>drama</td>\n",
       "      <td>[film, title, refers, unrecovered, body, groun...</td>\n",
       "      <td>0</td>\n",
       "      <td>[63, 139, 140, 6846, 131, 141, 142, 143, 144, ...</td>\n",
       "    </tr>\n",
       "  </tbody>\n",
       "</table>\n",
       "</div>"
      ],
      "text/plain": [
       "                                         descr_train genre_train  \\\n",
       "0  Listening in to a conversation between his doc...       drama   \n",
       "1  A brother and sister with a past incestuous re...    thriller   \n",
       "2  As the bus empties the students for their fiel...       adult   \n",
       "3  To help their unemployed father make ends meet...       drama   \n",
       "4  The film's title refers not only to the un-rec...       drama   \n",
       "\n",
       "                                      tokenized_text  label_num  \\\n",
       "0  [listening, conversation, doctor, parent, year...          0   \n",
       "1  [brother, sister, past, incestuous, relationsh...          1   \n",
       "2  [bus, empty, student, field, trip, museum, nat...          2   \n",
       "3  [help, unemployed, father, make, end, meet, ed...          0   \n",
       "4  [film, title, refers, unrecovered, body, groun...          0   \n",
       "\n",
       "                                tokenized_text_index  \n",
       "0  [0, 1, 2, 3, 4, 5, 6, 7, 8, 9, 10, 11, 12, 13,...  \n",
       "1  [39, 40, 41, 6846, 42, 43, 44, 42, 45, 46, 47,...  \n",
       "2  [6846, 49, 50, 51, 52, 53, 54, 55, 56, 57, 58,...  \n",
       "3  [86, 87, 88, 89, 6846, 20, 90, 91, 40, 92, 93,...  \n",
       "4  [63, 139, 140, 6846, 131, 141, 142, 143, 144, ...  "
      ]
     },
     "execution_count": 55,
     "metadata": {},
     "output_type": "execute_result"
    }
   ],
   "source": [
    "df1.head()"
   ]
  },
  {
   "cell_type": "code",
   "execution_count": 56,
   "id": "8a6bd2f6-527d-4043-ae54-8d62fd366778",
   "metadata": {
    "tags": []
   },
   "outputs": [
    {
     "data": {
      "text/html": [
       "<div>\n",
       "<style scoped>\n",
       "    .dataframe tbody tr th:only-of-type {\n",
       "        vertical-align: middle;\n",
       "    }\n",
       "\n",
       "    .dataframe tbody tr th {\n",
       "        vertical-align: top;\n",
       "    }\n",
       "\n",
       "    .dataframe thead th {\n",
       "        text-align: right;\n",
       "    }\n",
       "</style>\n",
       "<table border=\"1\" class=\"dataframe\">\n",
       "  <thead>\n",
       "    <tr style=\"text-align: right;\">\n",
       "      <th></th>\n",
       "      <th>descr_test</th>\n",
       "      <th>genre_test</th>\n",
       "      <th>tokenized_text</th>\n",
       "      <th>label_num</th>\n",
       "      <th>tokenized_text_index</th>\n",
       "    </tr>\n",
       "  </thead>\n",
       "  <tbody>\n",
       "    <tr>\n",
       "      <th>0</th>\n",
       "      <td>L.R. Brane loves his life - his car, his apart...</td>\n",
       "      <td>thriller</td>\n",
       "      <td>[lr, brane, love, life, car, apartment, job, e...</td>\n",
       "      <td>1</td>\n",
       "      <td>[6846, 6846, 31, 30, 6846, 267, 6846, 812, 907...</td>\n",
       "    </tr>\n",
       "    <tr>\n",
       "      <th>1</th>\n",
       "      <td>Spain, March 1964: Quico is a very naughty chi...</td>\n",
       "      <td>comedy</td>\n",
       "      <td>[spain, march, quico, naughty, child, three, b...</td>\n",
       "      <td>4</td>\n",
       "      <td>[826, 4013, 6846, 6431, 410, 395, 3665, 1107, ...</td>\n",
       "    </tr>\n",
       "    <tr>\n",
       "      <th>2</th>\n",
       "      <td>One year in the life of Albin and his family o...</td>\n",
       "      <td>documentary</td>\n",
       "      <td>[one, year, life, albin, family, shepherd, nor...</td>\n",
       "      <td>3</td>\n",
       "      <td>[6846, 216, 30, 6846, 104, 5259, 893, 6846, 37...</td>\n",
       "    </tr>\n",
       "    <tr>\n",
       "      <th>3</th>\n",
       "      <td>His father has died, he hasn't spoken with his...</td>\n",
       "      <td>drama</td>\n",
       "      <td>[father, died, hasnt, spoken, brother, year, s...</td>\n",
       "      <td>0</td>\n",
       "      <td>[88, 1271, 6600, 1544, 39, 216, 2981, 357, 420...</td>\n",
       "    </tr>\n",
       "    <tr>\n",
       "      <th>4</th>\n",
       "      <td>Before he was known internationally as a marti...</td>\n",
       "      <td>drama</td>\n",
       "      <td>[known, internationally, martial, art, superst...</td>\n",
       "      <td>0</td>\n",
       "      <td>[558, 1946, 1586, 6846, 3950, 1617, 6846, 2649...</td>\n",
       "    </tr>\n",
       "  </tbody>\n",
       "</table>\n",
       "</div>"
      ],
      "text/plain": [
       "                                          descr_test   genre_test  \\\n",
       "0  L.R. Brane loves his life - his car, his apart...     thriller   \n",
       "1  Spain, March 1964: Quico is a very naughty chi...       comedy   \n",
       "2  One year in the life of Albin and his family o...  documentary   \n",
       "3  His father has died, he hasn't spoken with his...        drama   \n",
       "4  Before he was known internationally as a marti...        drama   \n",
       "\n",
       "                                      tokenized_text  label_num  \\\n",
       "0  [lr, brane, love, life, car, apartment, job, e...          1   \n",
       "1  [spain, march, quico, naughty, child, three, b...          4   \n",
       "2  [one, year, life, albin, family, shepherd, nor...          3   \n",
       "3  [father, died, hasnt, spoken, brother, year, s...          0   \n",
       "4  [known, internationally, martial, art, superst...          0   \n",
       "\n",
       "                                tokenized_text_index  \n",
       "0  [6846, 6846, 31, 30, 6846, 267, 6846, 812, 907...  \n",
       "1  [826, 4013, 6846, 6431, 410, 395, 3665, 1107, ...  \n",
       "2  [6846, 216, 30, 6846, 104, 5259, 893, 6846, 37...  \n",
       "3  [88, 1271, 6600, 1544, 39, 216, 2981, 357, 420...  \n",
       "4  [558, 1946, 1586, 6846, 3950, 1617, 6846, 2649...  "
      ]
     },
     "execution_count": 56,
     "metadata": {},
     "output_type": "execute_result"
    }
   ],
   "source": [
    "df2.head()"
   ]
  },
  {
   "cell_type": "code",
   "execution_count": null,
   "id": "53b14792-d983-441b-aa23-eacf9fdd4e62",
   "metadata": {},
   "outputs": [],
   "source": []
  },
  {
   "cell_type": "markdown",
   "id": "5f63785b-ca56-4c1b-9a93-20909e913e79",
   "metadata": {},
   "source": [
    "### 2.4 Паддинг"
   ]
  },
  {
   "cell_type": "code",
   "execution_count": 57,
   "id": "ecdd7096-9685-46e1-85b1-15ea491a8f72",
   "metadata": {},
   "outputs": [
    {
     "data": {
      "text/plain": [
       "(1416, 56.85151163005183, 44.0)"
      ]
     },
     "execution_count": 57,
     "metadata": {},
     "output_type": "execute_result"
    }
   ],
   "source": [
    "max([len(a) for a in tokenized_text_index1]), np.mean([len(a) for a in tokenized_text_index1]), np.median([len(a) for a in tokenized_text_index1])"
   ]
  },
  {
   "cell_type": "code",
   "execution_count": 58,
   "id": "7ac03251-78aa-49bf-818d-27fa42e0ad08",
   "metadata": {},
   "outputs": [
    {
     "data": {
      "text/plain": [
       "(784, 56.84451742652078, 44.0)"
      ]
     },
     "execution_count": 58,
     "metadata": {},
     "output_type": "execute_result"
    }
   ],
   "source": [
    "max([len(a) for a in tokenized_text_index2]), np.mean([len(a) for a in tokenized_text_index2]), np.median([len(a) for a in tokenized_text_index2])"
   ]
  },
  {
   "cell_type": "code",
   "execution_count": 59,
   "id": "1f9d8d4c-cd95-450c-8c86-231f151747a3",
   "metadata": {},
   "outputs": [],
   "source": [
    "# Приведение всех цепочек в датасете к одной длине с помощью паддинга\n",
    "MAX_SEQ_LEN1 = max([len(a) for a in tokenized_text_index1]) # максимальная длина последовательности\n",
    "MAX_SEQ_LEN2 = max([len(a) for a in tokenized_text_index2]) # максимальная длина последовательности\n",
    "MAX_SEQ_LEN = max(MAX_SEQ_LEN1, MAX_SEQ_LEN2)\n",
    "\n",
    "MAX_SEQ_LEN = 64\n",
    "\n",
    "tokenized_text_index_len1 = tf.keras.preprocessing.sequence.pad_sequences(\n",
    "    tokenized_text_index1,\n",
    "    value=dict_text[\"<PAD>\"],\n",
    "    padding='post',\n",
    "    maxlen=MAX_SEQ_LEN)\n",
    "\n",
    "\n",
    "tokenized_text_index_len2 = tf.keras.preprocessing.sequence.pad_sequences(\n",
    "tokenized_text_index2,\n",
    "value=dict_text[\"<PAD>\"],\n",
    "padding='post',\n",
    "maxlen=MAX_SEQ_LEN)"
   ]
  },
  {
   "cell_type": "code",
   "execution_count": 60,
   "id": "9ee20263-75af-4ea4-ae81-c2da03f268d3",
   "metadata": {
    "tags": []
   },
   "outputs": [],
   "source": [
    "# добавляем новую колонку в исходный датафрейм\n",
    "# for i in range(len(tokenized_text_index_len1)):\n",
    "#     df1.loc[i, 'tokenized_text_index_len'] = str(tokenized_text_index_len1[i])\n",
    "\n",
    "# # добавляем новую колонку в исходный датафрейм\n",
    "# for i in range(len(tokenized_text_index_len2)):\n",
    "#     df2.loc[i, 'tokenized_text_index_len'] = str(tokenized_text_index_len2[i])    "
   ]
  },
  {
   "cell_type": "code",
   "execution_count": 61,
   "id": "e24b2aeb-2ec7-4e42-b74a-76d412ea0260",
   "metadata": {},
   "outputs": [
    {
     "data": {
      "text/html": [
       "<div>\n",
       "<style scoped>\n",
       "    .dataframe tbody tr th:only-of-type {\n",
       "        vertical-align: middle;\n",
       "    }\n",
       "\n",
       "    .dataframe tbody tr th {\n",
       "        vertical-align: top;\n",
       "    }\n",
       "\n",
       "    .dataframe thead th {\n",
       "        text-align: right;\n",
       "    }\n",
       "</style>\n",
       "<table border=\"1\" class=\"dataframe\">\n",
       "  <thead>\n",
       "    <tr style=\"text-align: right;\">\n",
       "      <th></th>\n",
       "      <th>descr_train</th>\n",
       "      <th>genre_train</th>\n",
       "      <th>tokenized_text</th>\n",
       "      <th>label_num</th>\n",
       "      <th>tokenized_text_index</th>\n",
       "    </tr>\n",
       "  </thead>\n",
       "  <tbody>\n",
       "    <tr>\n",
       "      <th>0</th>\n",
       "      <td>Listening in to a conversation between his doc...</td>\n",
       "      <td>drama</td>\n",
       "      <td>[listening, conversation, doctor, parent, year...</td>\n",
       "      <td>0</td>\n",
       "      <td>[0, 1, 2, 3, 4, 5, 6, 7, 8, 9, 10, 11, 12, 13,...</td>\n",
       "    </tr>\n",
       "    <tr>\n",
       "      <th>1</th>\n",
       "      <td>A brother and sister with a past incestuous re...</td>\n",
       "      <td>thriller</td>\n",
       "      <td>[brother, sister, past, incestuous, relationsh...</td>\n",
       "      <td>1</td>\n",
       "      <td>[39, 40, 41, 6846, 42, 43, 44, 42, 45, 46, 47,...</td>\n",
       "    </tr>\n",
       "    <tr>\n",
       "      <th>2</th>\n",
       "      <td>As the bus empties the students for their fiel...</td>\n",
       "      <td>adult</td>\n",
       "      <td>[bus, empty, student, field, trip, museum, nat...</td>\n",
       "      <td>2</td>\n",
       "      <td>[6846, 49, 50, 51, 52, 53, 54, 55, 56, 57, 58,...</td>\n",
       "    </tr>\n",
       "    <tr>\n",
       "      <th>3</th>\n",
       "      <td>To help their unemployed father make ends meet...</td>\n",
       "      <td>drama</td>\n",
       "      <td>[help, unemployed, father, make, end, meet, ed...</td>\n",
       "      <td>0</td>\n",
       "      <td>[86, 87, 88, 89, 6846, 20, 90, 91, 40, 92, 93,...</td>\n",
       "    </tr>\n",
       "    <tr>\n",
       "      <th>4</th>\n",
       "      <td>The film's title refers not only to the un-rec...</td>\n",
       "      <td>drama</td>\n",
       "      <td>[film, title, refers, unrecovered, body, groun...</td>\n",
       "      <td>0</td>\n",
       "      <td>[63, 139, 140, 6846, 131, 141, 142, 143, 144, ...</td>\n",
       "    </tr>\n",
       "  </tbody>\n",
       "</table>\n",
       "</div>"
      ],
      "text/plain": [
       "                                         descr_train genre_train  \\\n",
       "0  Listening in to a conversation between his doc...       drama   \n",
       "1  A brother and sister with a past incestuous re...    thriller   \n",
       "2  As the bus empties the students for their fiel...       adult   \n",
       "3  To help their unemployed father make ends meet...       drama   \n",
       "4  The film's title refers not only to the un-rec...       drama   \n",
       "\n",
       "                                      tokenized_text  label_num  \\\n",
       "0  [listening, conversation, doctor, parent, year...          0   \n",
       "1  [brother, sister, past, incestuous, relationsh...          1   \n",
       "2  [bus, empty, student, field, trip, museum, nat...          2   \n",
       "3  [help, unemployed, father, make, end, meet, ed...          0   \n",
       "4  [film, title, refers, unrecovered, body, groun...          0   \n",
       "\n",
       "                                tokenized_text_index  \n",
       "0  [0, 1, 2, 3, 4, 5, 6, 7, 8, 9, 10, 11, 12, 13,...  \n",
       "1  [39, 40, 41, 6846, 42, 43, 44, 42, 45, 46, 47,...  \n",
       "2  [6846, 49, 50, 51, 52, 53, 54, 55, 56, 57, 58,...  \n",
       "3  [86, 87, 88, 89, 6846, 20, 90, 91, 40, 92, 93,...  \n",
       "4  [63, 139, 140, 6846, 131, 141, 142, 143, 144, ...  "
      ]
     },
     "execution_count": 61,
     "metadata": {},
     "output_type": "execute_result"
    }
   ],
   "source": [
    "df1.head()"
   ]
  },
  {
   "cell_type": "code",
   "execution_count": 62,
   "id": "558dfaae-c273-406a-8b4e-a241b352b290",
   "metadata": {
    "tags": []
   },
   "outputs": [
    {
     "data": {
      "text/plain": [
       "array([   0,    1,    2,    3,    4,    5,    6,    7,    8,    9,   10,\n",
       "         11,   12,   13,   14,   15,   16, 6846,   17,   18,   19,   20,\n",
       "         21, 6846,   22,   23,   17, 6846, 6846,   24,   25,   26,   27,\n",
       "       6846,   28,   29,    5,   11,   30,   31,   32,   33,   34, 6846,\n",
       "       6846, 6846, 6846,   35,   36,   37,   38, 6847, 6847, 6847, 6847,\n",
       "       6847, 6847, 6847, 6847, 6847, 6847, 6847, 6847, 6847])"
      ]
     },
     "execution_count": 62,
     "metadata": {},
     "output_type": "execute_result"
    }
   ],
   "source": [
    "tokenized_text_index_len1[0]"
   ]
  },
  {
   "cell_type": "code",
   "execution_count": 63,
   "id": "bb3f6f45-88b0-4d93-be26-d7e28be7a3f5",
   "metadata": {},
   "outputs": [
    {
     "data": {
      "text/plain": [
       "[(6847, 13),\n",
       " (6846, 9),\n",
       " (5, 2),\n",
       " (11, 2),\n",
       " (17, 2),\n",
       " (0, 1),\n",
       " (1, 1),\n",
       " (2, 1),\n",
       " (3, 1),\n",
       " (4, 1)]"
      ]
     },
     "execution_count": 63,
     "metadata": {},
     "output_type": "execute_result"
    }
   ],
   "source": [
    "Counter(tokenized_text_index_len1[0]).most_common(10)"
   ]
  },
  {
   "cell_type": "code",
   "execution_count": null,
   "id": "67753c4c-1ffe-4e5c-a7bb-a4bd7f0e8ede",
   "metadata": {},
   "outputs": [],
   "source": []
  },
  {
   "cell_type": "markdown",
   "id": "067c600c-f9f8-4897-980b-55212763e9ca",
   "metadata": {},
   "source": [
    "### 2.2 - 2.4 Автоматически через бибилиотеку"
   ]
  },
  {
   "cell_type": "markdown",
   "id": "aa5e5415-5c76-4ce7-95ec-e1febf364a6d",
   "metadata": {},
   "source": [
    "#### как в словаре оставлять слова, которые повторяются более n раз?"
   ]
  },
  {
   "cell_type": "code",
   "execution_count": 64,
   "id": "290dd045-6648-4091-81fc-ca2dceda9616",
   "metadata": {},
   "outputs": [],
   "source": [
    "tokenized_text1_ = []\n",
    "for text in tokenized_text1:\n",
    "    tokenized_text1_.append(' '.join(text))\n",
    "tokenized_text2_ = []\n",
    "for text in tokenized_text2:\n",
    "    tokenized_text2_.append(' '.join(text))"
   ]
  },
  {
   "cell_type": "code",
   "execution_count": 65,
   "id": "eacaeb9d-159b-40cf-89af-f43df1870e26",
   "metadata": {},
   "outputs": [
    {
     "data": {
      "text/plain": [
       "206926"
      ]
     },
     "execution_count": 65,
     "metadata": {},
     "output_type": "execute_result"
    }
   ],
   "source": [
    "tokenizer = tf.keras.preprocessing.text.Tokenizer(oov_token=1) #oov_token=1 - если слово не встретилось, 0 - для падинга\n",
    "tokenizer.fit_on_texts(tokenized_text1_ + tokenized_text2_)\n",
    "len(tokenizer.word_index)"
   ]
  },
  {
   "cell_type": "code",
   "execution_count": 66,
   "id": "889e87d1-c31c-435c-9282-13c09a0522f9",
   "metadata": {},
   "outputs": [],
   "source": [
    "MAX_SEQ_LEN = 64\n",
    "tokenized_text_index_train = tokenizer.texts_to_sequences(tokenized_text1)\n",
    "tokenized_text_index_test = tokenizer.texts_to_sequences(tokenized_text2)\n",
    "tokenized_text_index_len_train = tf.keras.preprocessing.sequence.pad_sequences(tokenized_text_index_train, padding='post', maxlen=MAX_SEQ_LEN)\n",
    "tokenized_text_index_len_test = tf.keras.preprocessing.sequence.pad_sequences(tokenized_text_index_test, padding='post', maxlen=MAX_SEQ_LEN)"
   ]
  },
  {
   "cell_type": "code",
   "execution_count": 67,
   "id": "2d2dcc7d-73e1-4af7-a7f4-d0dea4132bfe",
   "metadata": {},
   "outputs": [
    {
     "data": {
      "text/plain": [
       "array([ 4254,  1075,   298,   135,   445,  2596,   370,  1903,  1237,\n",
       "          63,   355,    58,  4506,   628,  1229,   823,  1660, 46097,\n",
       "        1149,   454,  4583,    38,   470,  7406,   724,   877,  1149,\n",
       "         729,  9795,   116,   503,  5230,  1629,  2945,  2391,  1666,\n",
       "        2596,    58,     2,    11,   352,   207,    18,  1207, 10337,\n",
       "       11826, 11498,   395,  2141,  6813,   887,     0,     0,     0,\n",
       "           0,     0,     0,     0,     0,     0,     0,     0,     0,\n",
       "           0])"
      ]
     },
     "execution_count": 67,
     "metadata": {},
     "output_type": "execute_result"
    }
   ],
   "source": [
    "tokenized_text_index_len_train[0]"
   ]
  },
  {
   "cell_type": "code",
   "execution_count": 68,
   "id": "927cc109-31c1-4029-8bad-b7b065885e36",
   "metadata": {},
   "outputs": [
    {
     "data": {
      "text/plain": [
       "[(0, 13),\n",
       " (2596, 2),\n",
       " (58, 2),\n",
       " (1149, 2),\n",
       " (4254, 1),\n",
       " (1075, 1),\n",
       " (298, 1),\n",
       " (135, 1),\n",
       " (445, 1),\n",
       " (370, 1)]"
      ]
     },
     "execution_count": 68,
     "metadata": {},
     "output_type": "execute_result"
    }
   ],
   "source": [
    "Counter(tokenized_text_index_len_train[0]).most_common(10)"
   ]
  },
  {
   "cell_type": "code",
   "execution_count": null,
   "id": "89b8d4fa-39a5-46b3-a533-725b9745e09e",
   "metadata": {},
   "outputs": [],
   "source": []
  },
  {
   "cell_type": "markdown",
   "id": "bd20db9b-ff50-45dc-968a-a61504a04593",
   "metadata": {},
   "source": [
    "### 2.5 Bag of words"
   ]
  },
  {
   "cell_type": "markdown",
   "id": "f7aae140-69e4-4649-a8e1-5a9a4bc887b0",
   "metadata": {},
   "source": [
    "#### 2.5.1 Вручную"
   ]
  },
  {
   "cell_type": "code",
   "execution_count": 69,
   "id": "25adfd60-75e9-41b8-a1fb-e67140126cc3",
   "metadata": {},
   "outputs": [
    {
     "name": "stderr",
     "output_type": "stream",
     "text": [
      "C:\\Users\\881F~1\\AppData\\Local\\Temp/ipykernel_11004/139926362.py:1: VisibleDeprecationWarning: Creating an ndarray from ragged nested sequences (which is a list-or-tuple of lists-or-tuples-or ndarrays with different lengths or shapes) is deprecated. If you meant to do this, you must specify 'dtype=object' when creating the ndarray\n",
      "  num_ob = np.array(tokenized_text_index1).shape[0] # количество объектов\n"
     ]
    },
    {
     "data": {
      "text/plain": [
       "(54213, 6848)"
      ]
     },
     "execution_count": 69,
     "metadata": {},
     "output_type": "execute_result"
    }
   ],
   "source": [
    "num_ob = np.array(tokenized_text_index1).shape[0] # количество объектов\n",
    "VOCAB_SIZE = len(dict_text) # размер словаря\n",
    "num_ob, VOCAB_SIZE"
   ]
  },
  {
   "cell_type": "code",
   "execution_count": 70,
   "id": "c9716bfa-69c9-4963-b090-b7264e96c0c7",
   "metadata": {
    "collapsed": true,
    "jupyter": {
     "outputs_hidden": true
    },
    "tags": []
   },
   "outputs": [
    {
     "ename": "KeyboardInterrupt",
     "evalue": "",
     "output_type": "error",
     "traceback": [
      "\u001b[1;31m---------------------------------------------------------------------------\u001b[0m",
      "\u001b[1;31mKeyboardInterrupt\u001b[0m                         Traceback (most recent call last)",
      "\u001b[1;32mC:\\Users\\881F~1\\AppData\\Local\\Temp/ipykernel_11004/2543835307.py\u001b[0m in \u001b[0;36m<module>\u001b[1;34m\u001b[0m\n\u001b[1;32m----> 1\u001b[1;33m \u001b[0mtok_train\u001b[0m \u001b[1;33m=\u001b[0m \u001b[0mnp\u001b[0m\u001b[1;33m.\u001b[0m\u001b[0marray\u001b[0m\u001b[1;33m(\u001b[0m\u001b[1;33m[\u001b[0m\u001b[0mnp\u001b[0m\u001b[1;33m.\u001b[0m\u001b[0marray\u001b[0m\u001b[1;33m(\u001b[0m\u001b[1;33m[\u001b[0m\u001b[0mtokenized_text_index1_1\u001b[0m\u001b[1;33m.\u001b[0m\u001b[0mcount\u001b[0m\u001b[1;33m(\u001b[0m\u001b[0ma\u001b[0m\u001b[1;33m)\u001b[0m \u001b[1;32mfor\u001b[0m \u001b[0mtokenized_text_index1_1\u001b[0m \u001b[1;32min\u001b[0m \u001b[0mtokenized_text_index1\u001b[0m\u001b[1;33m]\u001b[0m\u001b[1;33m)\u001b[0m \u001b[1;32mfor\u001b[0m \u001b[0ma\u001b[0m \u001b[1;32min\u001b[0m \u001b[0mrange\u001b[0m\u001b[1;33m(\u001b[0m\u001b[1;36m0\u001b[0m\u001b[1;33m,\u001b[0m \u001b[0mVOCAB_SIZE\u001b[0m\u001b[1;33m)\u001b[0m\u001b[1;33m]\u001b[0m\u001b[1;33m)\u001b[0m\u001b[1;33m\u001b[0m\u001b[1;33m\u001b[0m\u001b[0m\n\u001b[0m",
      "\u001b[1;32mC:\\Users\\881F~1\\AppData\\Local\\Temp/ipykernel_11004/2543835307.py\u001b[0m in \u001b[0;36m<listcomp>\u001b[1;34m(.0)\u001b[0m\n\u001b[1;32m----> 1\u001b[1;33m \u001b[0mtok_train\u001b[0m \u001b[1;33m=\u001b[0m \u001b[0mnp\u001b[0m\u001b[1;33m.\u001b[0m\u001b[0marray\u001b[0m\u001b[1;33m(\u001b[0m\u001b[1;33m[\u001b[0m\u001b[0mnp\u001b[0m\u001b[1;33m.\u001b[0m\u001b[0marray\u001b[0m\u001b[1;33m(\u001b[0m\u001b[1;33m[\u001b[0m\u001b[0mtokenized_text_index1_1\u001b[0m\u001b[1;33m.\u001b[0m\u001b[0mcount\u001b[0m\u001b[1;33m(\u001b[0m\u001b[0ma\u001b[0m\u001b[1;33m)\u001b[0m \u001b[1;32mfor\u001b[0m \u001b[0mtokenized_text_index1_1\u001b[0m \u001b[1;32min\u001b[0m \u001b[0mtokenized_text_index1\u001b[0m\u001b[1;33m]\u001b[0m\u001b[1;33m)\u001b[0m \u001b[1;32mfor\u001b[0m \u001b[0ma\u001b[0m \u001b[1;32min\u001b[0m \u001b[0mrange\u001b[0m\u001b[1;33m(\u001b[0m\u001b[1;36m0\u001b[0m\u001b[1;33m,\u001b[0m \u001b[0mVOCAB_SIZE\u001b[0m\u001b[1;33m)\u001b[0m\u001b[1;33m]\u001b[0m\u001b[1;33m)\u001b[0m\u001b[1;33m\u001b[0m\u001b[1;33m\u001b[0m\u001b[0m\n\u001b[0m",
      "\u001b[1;32mC:\\Users\\881F~1\\AppData\\Local\\Temp/ipykernel_11004/2543835307.py\u001b[0m in \u001b[0;36m<listcomp>\u001b[1;34m(.0)\u001b[0m\n\u001b[1;32m----> 1\u001b[1;33m \u001b[0mtok_train\u001b[0m \u001b[1;33m=\u001b[0m \u001b[0mnp\u001b[0m\u001b[1;33m.\u001b[0m\u001b[0marray\u001b[0m\u001b[1;33m(\u001b[0m\u001b[1;33m[\u001b[0m\u001b[0mnp\u001b[0m\u001b[1;33m.\u001b[0m\u001b[0marray\u001b[0m\u001b[1;33m(\u001b[0m\u001b[1;33m[\u001b[0m\u001b[0mtokenized_text_index1_1\u001b[0m\u001b[1;33m.\u001b[0m\u001b[0mcount\u001b[0m\u001b[1;33m(\u001b[0m\u001b[0ma\u001b[0m\u001b[1;33m)\u001b[0m \u001b[1;32mfor\u001b[0m \u001b[0mtokenized_text_index1_1\u001b[0m \u001b[1;32min\u001b[0m \u001b[0mtokenized_text_index1\u001b[0m\u001b[1;33m]\u001b[0m\u001b[1;33m)\u001b[0m \u001b[1;32mfor\u001b[0m \u001b[0ma\u001b[0m \u001b[1;32min\u001b[0m \u001b[0mrange\u001b[0m\u001b[1;33m(\u001b[0m\u001b[1;36m0\u001b[0m\u001b[1;33m,\u001b[0m \u001b[0mVOCAB_SIZE\u001b[0m\u001b[1;33m)\u001b[0m\u001b[1;33m]\u001b[0m\u001b[1;33m)\u001b[0m\u001b[1;33m\u001b[0m\u001b[1;33m\u001b[0m\u001b[0m\n\u001b[0m",
      "\u001b[1;31mKeyboardInterrupt\u001b[0m: "
     ]
    }
   ],
   "source": [
    "tok_train = np.array([np.array([tokenized_text_index1_1.count(a) for tokenized_text_index1_1 in tokenized_text_index1]) for a in range(0, VOCAB_SIZE)])"
   ]
  },
  {
   "cell_type": "code",
   "execution_count": null,
   "id": "1537ba67-3878-423d-9345-e50e0baa6f9e",
   "metadata": {},
   "outputs": [],
   "source": [
    "tok_train = tok_train.T\n",
    "tok_train.shape"
   ]
  },
  {
   "cell_type": "code",
   "execution_count": null,
   "id": "1ec5889d-88ff-4dc1-b7cd-3b9a3ce45db9",
   "metadata": {},
   "outputs": [],
   "source": [
    "dict(Counter(tok_train[0]))"
   ]
  },
  {
   "cell_type": "code",
   "execution_count": null,
   "id": "73be3cf0-ef81-4804-9a07-8edfe085c84f",
   "metadata": {},
   "outputs": [],
   "source": [
    "# проверка\n",
    "import random\n",
    "k = random.randint(0, tok_train.shape[0])\n",
    "\n",
    "len(tokenized_text_index1[k]) == sum(tok_train[k])"
   ]
  },
  {
   "cell_type": "code",
   "execution_count": null,
   "id": "923a9fe6-51b5-4781-bb26-c049e7d1f894",
   "metadata": {},
   "outputs": [],
   "source": [
    "tok_test = np.array([np.array([tokenized_text_index2_1.count(a) for tokenized_text_index2_1 in tokenized_text_index2]) for a in range(0, VOCAB_SIZE)])"
   ]
  },
  {
   "cell_type": "code",
   "execution_count": null,
   "id": "2b930879-cad9-404e-b9e7-f0c2718e0e6b",
   "metadata": {},
   "outputs": [],
   "source": [
    "tok_test = tok_test.T\n",
    "tok_test.shape"
   ]
  },
  {
   "cell_type": "code",
   "execution_count": null,
   "id": "d27c37bb-0604-4417-82cb-71f56e95bd82",
   "metadata": {},
   "outputs": [],
   "source": []
  },
  {
   "cell_type": "markdown",
   "id": "19dd7daa-5ffc-4af1-b047-bdf797949b1d",
   "metadata": {},
   "source": [
    "#### 2.5.2 Автоматически через библиотеку"
   ]
  },
  {
   "cell_type": "code",
   "execution_count": 71,
   "id": "cd7f51db-d856-4e22-8874-748155c2add4",
   "metadata": {},
   "outputs": [],
   "source": [
    "from sklearn.feature_extraction.text import CountVectorizer"
   ]
  },
  {
   "cell_type": "code",
   "execution_count": 72,
   "id": "a40adcdb-19aa-48dc-ac07-20bb776157fc",
   "metadata": {},
   "outputs": [
    {
     "data": {
      "text/plain": [
       "<54213x6848 sparse matrix of type '<class 'numpy.int64'>'\n",
       "\twith 1959885 stored elements in Compressed Sparse Row format>"
      ]
     },
     "execution_count": 72,
     "metadata": {},
     "output_type": "execute_result"
    }
   ],
   "source": [
    "vectorizer = CountVectorizer(vocabulary=dict_text) #vocabulary=dict_text\n",
    "document_matrix = vectorizer.fit_transform(tokenized_text1_)\n",
    "# результат - матрица, в которой находятся числа, строк в мастрице столько, сколько документов\n",
    "# а столбцов столько, сколько токенов\n",
    "document_matrix"
   ]
  },
  {
   "cell_type": "code",
   "execution_count": 73,
   "id": "c7f0c520-d41d-40ee-b774-d983bf6b2540",
   "metadata": {},
   "outputs": [],
   "source": [
    "tok_train_ = document_matrix.toarray()"
   ]
  },
  {
   "cell_type": "code",
   "execution_count": 74,
   "id": "d57aaa84-b27b-4648-9ef0-f0a11af1f91d",
   "metadata": {},
   "outputs": [
    {
     "data": {
      "text/plain": [
       "(54213, 6848)"
      ]
     },
     "execution_count": 74,
     "metadata": {},
     "output_type": "execute_result"
    }
   ],
   "source": [
    "tok_train_.shape"
   ]
  },
  {
   "cell_type": "code",
   "execution_count": 75,
   "id": "df6a584d-1d11-4d5f-a1b5-448ff7ba8105",
   "metadata": {},
   "outputs": [
    {
     "data": {
      "text/plain": [
       "{1: 36, 2: 3, 0: 6809}"
      ]
     },
     "execution_count": 75,
     "metadata": {},
     "output_type": "execute_result"
    }
   ],
   "source": [
    "dict(Counter(tok_train_[0]))"
   ]
  },
  {
   "cell_type": "code",
   "execution_count": 76,
   "id": "eb3561c0-f77c-492f-8247-4eb2455382e5",
   "metadata": {},
   "outputs": [
    {
     "data": {
      "text/plain": [
       "<54199x6848 sparse matrix of type '<class 'numpy.int64'>'\n",
       "\twith 1964017 stored elements in Compressed Sparse Row format>"
      ]
     },
     "execution_count": 76,
     "metadata": {},
     "output_type": "execute_result"
    }
   ],
   "source": [
    "document_matrix = vectorizer.fit_transform(tokenized_text2_)\n",
    "# результат - матрица, в которой находятся числа, строк в мастрице столько, сколько документов\n",
    "# а столбцов столько, сколько токенов\n",
    "document_matrix"
   ]
  },
  {
   "cell_type": "code",
   "execution_count": 77,
   "id": "0125020d-52ba-4856-88a8-be1d4ebbe06f",
   "metadata": {},
   "outputs": [],
   "source": [
    "tok_test_ = document_matrix.toarray()"
   ]
  },
  {
   "cell_type": "code",
   "execution_count": null,
   "id": "f4b00c0d-a146-45b8-9cf8-6378b27e0ff5",
   "metadata": {},
   "outputs": [],
   "source": []
  },
  {
   "cell_type": "markdown",
   "id": "6ffffccf-34b0-4168-a7fa-0d39c70951c6",
   "metadata": {},
   "source": [
    "### 2.6 Word2Vec"
   ]
  },
  {
   "cell_type": "code",
   "execution_count": null,
   "id": "0ba1ea8a-95b8-4128-aa94-f2d81da0ef08",
   "metadata": {},
   "outputs": [],
   "source": [
    "from gensim.models import Word2Vec"
   ]
  },
  {
   "cell_type": "code",
   "execution_count": null,
   "id": "2cb69a7a-1e81-4259-b94a-4327b72b6849",
   "metadata": {},
   "outputs": [],
   "source": [
    "w2v = Word2Vec(sentences=tokenized_text1 + tokenized_text2, vector_size=16, min_count=1, epochs=10)\n",
    "embedding_matrix_w2v = np.random.random((len(dict_text) + 1, w2v.vector_size))"
   ]
  },
  {
   "cell_type": "code",
   "execution_count": null,
   "id": "a1c521eb-7266-4250-bf4c-13e818527a3d",
   "metadata": {},
   "outputs": [],
   "source": [
    "for word in dict_text.keys(): #tokenizer.word_index.items()\n",
    "    i = dict_text[word]\n",
    "    try:\n",
    "        embedding_matrix_w2v[i] = w2v.wv[word]\n",
    "    except:\n",
    "        print(word)"
   ]
  },
  {
   "cell_type": "code",
   "execution_count": null,
   "id": "23957e73-eb51-40f1-8eee-b92fd05ae04c",
   "metadata": {},
   "outputs": [],
   "source": []
  },
  {
   "cell_type": "markdown",
   "id": "6d1a673a-2fbc-4a50-b655-34b4f1ddfb59",
   "metadata": {},
   "source": [
    "### 2.7 FastText"
   ]
  },
  {
   "cell_type": "code",
   "execution_count": null,
   "id": "f6ecafc9-1b13-488d-80ca-237be4a6fbdc",
   "metadata": {},
   "outputs": [],
   "source": [
    "from gensim.models import FastText"
   ]
  },
  {
   "cell_type": "code",
   "execution_count": null,
   "id": "6e4ebba1-65e1-4b42-81df-212c689c5e93",
   "metadata": {},
   "outputs": [],
   "source": [
    "ft = FastText(sentences=tokenized_text1 + tokenized_text2, vector_size=16, min_count=1, epochs=10)\n",
    "embedding_matrix_ft = np.random.random((len(dict_text) + 1, ft.vector_size))"
   ]
  },
  {
   "cell_type": "code",
   "execution_count": null,
   "id": "2f0a7b5f-d590-4690-bc91-2b711ccd987e",
   "metadata": {},
   "outputs": [],
   "source": [
    "for word in dict_text.keys(): #tokenizer.word_index.items()\n",
    "    i = dict_text[word]\n",
    "    try:\n",
    "        embedding_matrix_ft[i] = ft.wv[word]\n",
    "    except:\n",
    "        print(word)"
   ]
  },
  {
   "cell_type": "code",
   "execution_count": null,
   "id": "a8809542-3082-4a75-ae9d-7cb050ce159e",
   "metadata": {},
   "outputs": [],
   "source": []
  },
  {
   "cell_type": "markdown",
   "id": "faa80634-56f0-4cfa-8e46-cb73971e5a85",
   "metadata": {},
   "source": [
    "## 3. Создание модели"
   ]
  },
  {
   "cell_type": "code",
   "execution_count": 78,
   "id": "822a80c4-0b55-4d8d-bc13-7782853d6363",
   "metadata": {},
   "outputs": [],
   "source": [
    "x_train = tokenized_text_index_len1\n",
    "x_test = tokenized_text_index_len2\n",
    "y_train = np.array(label_num1)\n",
    "y_test = np.array(label_num2)"
   ]
  },
  {
   "cell_type": "code",
   "execution_count": null,
   "id": "0ea56353-0161-4caa-b12d-d40d1cc3e17e",
   "metadata": {},
   "outputs": [],
   "source": [
    "with open('./data1.pickle', 'wb') as f :\n",
    "    pickle.dump([x_train, x_test, y_train, y_test], f)\n",
    "\n",
    "with open('./data2.pickle', 'wb') as f :\n",
    "    pickle.dump([tok_train_, tok_test_], f)\n",
    "\n",
    "with open('./dict.pickle', 'wb') as f :\n",
    "    pickle.dump([embedding_matrix_w2v, embedding_matrix_ft, len(dict_text)], f)"
   ]
  },
  {
   "cell_type": "code",
   "execution_count": null,
   "id": "8f7bf705-82be-4592-b69c-5c138d86afd9",
   "metadata": {},
   "outputs": [],
   "source": [
    "with open('./data1.pickle', 'rb') as f :\n",
    "    x_train, x_test, y_train, y_test = pickle.load(f)\n",
    "\n",
    "with open('./data2.pickle', 'rb') as f :\n",
    "    tok_train_, tok_test_ = pickle.load(f)\n",
    "\n",
    "with open('./dict.pickle', 'rb') as f :\n",
    "    embedding_matrix_w2v, embedding_matrix_ft, len_dict = pickle.load(f)"
   ]
  },
  {
   "cell_type": "code",
   "execution_count": null,
   "id": "ab51a60f-983e-44b8-a2eb-00ed7b6dc4ec",
   "metadata": {},
   "outputs": [],
   "source": [
    "x_train.shape, x_test.shape"
   ]
  },
  {
   "cell_type": "code",
   "execution_count": null,
   "id": "889fbf66-0d71-43ce-b721-1faaab7f78e2",
   "metadata": {},
   "outputs": [],
   "source": []
  },
  {
   "cell_type": "code",
   "execution_count": 80,
   "id": "1a496f04-be1e-4713-a17c-17af2d288401",
   "metadata": {},
   "outputs": [],
   "source": [
    "# ПАРАМЕТРЫ МОДЕЛИ\n",
    "VOCAB_SIZE = len(dict_text) # Количество слов в словаре\n",
    "EMB_SIZE = 16 # (16) Размер векторного представления (эмбеддинга) - можно оптимизировать \n",
    "N = len(np.unique(y_train)) # количество классов\n",
    "NEURONS = 16 # (16) количество нейронов на выходе предпоследнего слоя - можно оптимизировать\n",
    "\n",
    "# ПАРАМЕТРЫ ПРИ ОБУЧЕНИИ\n",
    "BATCH_SIZE = 1024 # (32) размер батча (кол-во прошедших объектов через модель за одну итерацию внутри одной эпохи) - можно оптимизировать (раз в 50 меньше кол-ва объектов)\n",
    "NUM_EPOCHS = 100 # (100) количество эпох (столько шагов градиетного спуска - обновление весов) - можно оптимизировать\n",
    "LEARNING_RATE = 0.005 # (0.005) скорость обучения - можно оптимизировать\n",
    "# количество итераций внутри одной эпохи = число батчей = кол-во объектов / BATCH_SIZE"
   ]
  },
  {
   "cell_type": "code",
   "execution_count": null,
   "id": "5ee3d2d4-5f0e-4313-8316-c37f72968eac",
   "metadata": {},
   "outputs": [],
   "source": []
  },
  {
   "cell_type": "markdown",
   "id": "1d571811-5615-4a06-856e-354423f2cbe9",
   "metadata": {},
   "source": [
    "### 3.1 Обычная сеть прямого распространения"
   ]
  },
  {
   "cell_type": "markdown",
   "id": "c3606769-08c3-46e4-aa70-98918172d62a",
   "metadata": {},
   "source": [
    "#### 3.1.1 Через эмбеддинг"
   ]
  },
  {
   "cell_type": "code",
   "execution_count": 81,
   "id": "9be6766d-e75c-41a4-860e-6cec235446a7",
   "metadata": {},
   "outputs": [],
   "source": [
    "# сохранение модели\n",
    "dir_path = pathlib.Path.home()\n",
    "cpt_filename = \"best_checkpoint_1_1.hdf5\"  \n",
    "cpt_path =str(dir_path / cpt_filename)"
   ]
  },
  {
   "cell_type": "code",
   "execution_count": 82,
   "id": "cb138b95-c372-498a-b777-192d98e0de05",
   "metadata": {},
   "outputs": [
    {
     "name": "stdout",
     "output_type": "stream",
     "text": [
      "Model: \"sequential\"\n",
      "_________________________________________________________________\n",
      "Layer (type)                 Output Shape              Param #   \n",
      "=================================================================\n",
      "embedding (Embedding)        (None, None, 16)          109584    \n",
      "_________________________________________________________________\n",
      "global_average_pooling1d (Gl (None, 16)                0         \n",
      "_________________________________________________________________\n",
      "dense (Dense)                (None, 16)                272       \n",
      "_________________________________________________________________\n",
      "dense_1 (Dense)              (None, 27)                459       \n",
      "=================================================================\n",
      "Total params: 110,315\n",
      "Trainable params: 110,315\n",
      "Non-trainable params: 0\n",
      "_________________________________________________________________\n"
     ]
    }
   ],
   "source": [
    "# сохранение модели\n",
    "#cpt_path = \"best_checkpoint_1_1.hdf5\" \n",
    "\n",
    "if os.path.isfile(cpt_path): # удаление файла, если есть\n",
    "    os.remove(cpt_path)\n",
    "        \n",
    "checkpoint = tf.keras.callbacks.ModelCheckpoint(cpt_path, monitor='val_sparse_categorical_accuracy', verbose=1, save_best_only=True, mode='max')\n",
    "\n",
    "# определение модели    \n",
    "model = tf.keras.Sequential([\n",
    "    tf.keras.layers.Embedding(VOCAB_SIZE + 1, EMB_SIZE),\n",
    "    tf.keras.layers.GlobalAveragePooling1D(),\n",
    "#    tf.keras.layers.Dropout(0.9),\n",
    "    tf.keras.layers.Dense(NEURONS, activation=tf.nn.relu),\n",
    "    tf.keras.layers.Dense(N, activation=tf.nn.softmax), # выходной слой (27 - кол-во предсказанных вероятностей на выходе)\n",
    "])\n",
    "\n",
    "model.summary()"
   ]
  },
  {
   "cell_type": "code",
   "execution_count": 83,
   "id": "a4acf9af-27cd-4a49-874b-159c8a3e1dd4",
   "metadata": {
    "collapsed": true,
    "jupyter": {
     "outputs_hidden": true
    },
    "tags": []
   },
   "outputs": [
    {
     "name": "stdout",
     "output_type": "stream",
     "text": [
      "Epoch 1/100\n",
      "52/53 [============================>.] - ETA: 0s - loss: 2.5017 - sparse_categorical_accuracy: 0.2765\n",
      "Epoch 00001: val_sparse_categorical_accuracy improved from -inf to 0.40748, saving model to C:\\Users\\София\\best_checkpoint_1_1.hdf5\n",
      "53/53 [==============================] - 2s 35ms/step - loss: 2.4975 - sparse_categorical_accuracy: 0.2792 - val_loss: 2.2519 - val_sparse_categorical_accuracy: 0.4075\n",
      "Epoch 2/100\n",
      "53/53 [==============================] - ETA: 0s - loss: 2.1109 - sparse_categorical_accuracy: 0.4235\n",
      "Epoch 00002: val_sparse_categorical_accuracy improved from 0.40748 to 0.43416, saving model to C:\\Users\\София\\best_checkpoint_1_1.hdf5\n",
      "53/53 [==============================] - 1s 24ms/step - loss: 2.1109 - sparse_categorical_accuracy: 0.4235 - val_loss: 1.9742 - val_sparse_categorical_accuracy: 0.4342\n",
      "Epoch 3/100\n",
      "51/53 [===========================>..] - ETA: 0s - loss: 1.8721 - sparse_categorical_accuracy: 0.4557- ETA: 0s - loss: 1.9088 - sparse_categorical_accuracy: \n",
      "Epoch 00003: val_sparse_categorical_accuracy improved from 0.43416 to 0.46377, saving model to C:\\Users\\София\\best_checkpoint_1_1.hdf5\n",
      "53/53 [==============================] - 1s 16ms/step - loss: 1.8683 - sparse_categorical_accuracy: 0.4564 - val_loss: 1.8353 - val_sparse_categorical_accuracy: 0.4638\n",
      "Epoch 4/100\n",
      "51/53 [===========================>..] - ETA: 0s - loss: 1.7379 - sparse_categorical_accuracy: 0.4937\n",
      "Epoch 00004: val_sparse_categorical_accuracy improved from 0.46377 to 0.49625, saving model to C:\\Users\\София\\best_checkpoint_1_1.hdf5\n",
      "53/53 [==============================] - 1s 16ms/step - loss: 1.7375 - sparse_categorical_accuracy: 0.4944 - val_loss: 1.7482 - val_sparse_categorical_accuracy: 0.4962\n",
      "Epoch 5/100\n",
      "50/53 [===========================>..] - ETA: 0s - loss: 1.6417 - sparse_categorical_accuracy: 0.5289\n",
      "Epoch 00005: val_sparse_categorical_accuracy improved from 0.49625 to 0.51706, saving model to C:\\Users\\София\\best_checkpoint_1_1.hdf5\n",
      "53/53 [==============================] - 1s 16ms/step - loss: 1.6377 - sparse_categorical_accuracy: 0.5299 - val_loss: 1.6872 - val_sparse_categorical_accuracy: 0.5171\n",
      "Epoch 6/100\n",
      "53/53 [==============================] - ETA: 0s - loss: 1.5546 - sparse_categorical_accuracy: 0.5518\n",
      "Epoch 00006: val_sparse_categorical_accuracy improved from 0.51706 to 0.52660, saving model to C:\\Users\\София\\best_checkpoint_1_1.hdf5\n",
      "53/53 [==============================] - 1s 16ms/step - loss: 1.5546 - sparse_categorical_accuracy: 0.5518 - val_loss: 1.6433 - val_sparse_categorical_accuracy: 0.5266\n",
      "Epoch 7/100\n",
      "49/53 [==========================>...] - ETA: 0s - loss: 1.4880 - sparse_categorical_accuracy: 0.5693\n",
      "Epoch 00007: val_sparse_categorical_accuracy improved from 0.52660 to 0.53501, saving model to C:\\Users\\София\\best_checkpoint_1_1.hdf5\n",
      "53/53 [==============================] - 1s 18ms/step - loss: 1.4884 - sparse_categorical_accuracy: 0.5693 - val_loss: 1.6137 - val_sparse_categorical_accuracy: 0.5350\n",
      "Epoch 8/100\n",
      "49/53 [==========================>...] - ETA: 0s - loss: 1.4342 - sparse_categorical_accuracy: 0.5845\n",
      "Epoch 00008: val_sparse_categorical_accuracy improved from 0.53501 to 0.53990, saving model to C:\\Users\\София\\best_checkpoint_1_1.hdf5\n",
      "53/53 [==============================] - 1s 16ms/step - loss: 1.4339 - sparse_categorical_accuracy: 0.5843 - val_loss: 1.5956 - val_sparse_categorical_accuracy: 0.5399\n",
      "Epoch 9/100\n",
      "49/53 [==========================>...] - ETA: 0s - loss: 1.3905 - sparse_categorical_accuracy: 0.5977\n",
      "Epoch 00009: val_sparse_categorical_accuracy improved from 0.53990 to 0.54280, saving model to C:\\Users\\София\\best_checkpoint_1_1.hdf5\n",
      "53/53 [==============================] - 1s 16ms/step - loss: 1.3880 - sparse_categorical_accuracy: 0.5977 - val_loss: 1.5852 - val_sparse_categorical_accuracy: 0.5428\n",
      "Epoch 10/100\n",
      "53/53 [==============================] - ETA: 0s - loss: 1.3530 - sparse_categorical_accuracy: 0.6070\n",
      "Epoch 00010: val_sparse_categorical_accuracy did not improve from 0.54280\n",
      "53/53 [==============================] - 1s 16ms/step - loss: 1.3530 - sparse_categorical_accuracy: 0.6070 - val_loss: 1.5797 - val_sparse_categorical_accuracy: 0.5421\n",
      "Epoch 11/100\n",
      "51/53 [===========================>..] - ETA: 0s - loss: 1.3240 - sparse_categorical_accuracy: 0.6143\n",
      "Epoch 00011: val_sparse_categorical_accuracy improved from 0.54280 to 0.54309, saving model to C:\\Users\\София\\best_checkpoint_1_1.hdf5\n",
      "53/53 [==============================] - 1s 16ms/step - loss: 1.3237 - sparse_categorical_accuracy: 0.6145 - val_loss: 1.5780 - val_sparse_categorical_accuracy: 0.5431\n",
      "Epoch 12/100\n",
      "51/53 [===========================>..] - ETA: 0s - loss: 1.2983 - sparse_categorical_accuracy: 0.6206\n",
      "Epoch 00012: val_sparse_categorical_accuracy improved from 0.54309 to 0.54503, saving model to C:\\Users\\София\\best_checkpoint_1_1.hdf5\n",
      "53/53 [==============================] - 1s 15ms/step - loss: 1.2976 - sparse_categorical_accuracy: 0.6205 - val_loss: 1.5826 - val_sparse_categorical_accuracy: 0.5450\n",
      "Epoch 13/100\n",
      "50/53 [===========================>..] - ETA: 0s - loss: 1.2735 - sparse_categorical_accuracy: 0.6269\n",
      "Epoch 00013: val_sparse_categorical_accuracy did not improve from 0.54503\n",
      "53/53 [==============================] - 1s 15ms/step - loss: 1.2738 - sparse_categorical_accuracy: 0.6267 - val_loss: 1.5857 - val_sparse_categorical_accuracy: 0.5448\n",
      "Epoch 14/100\n",
      "51/53 [===========================>..] - ETA: 0s - loss: 1.2527 - sparse_categorical_accuracy: 0.6330\n",
      "Epoch 00014: val_sparse_categorical_accuracy did not improve from 0.54503\n",
      "53/53 [==============================] - 1s 16ms/step - loss: 1.2522 - sparse_categorical_accuracy: 0.6328 - val_loss: 1.5918 - val_sparse_categorical_accuracy: 0.5421\n",
      "Epoch 15/100\n",
      "49/53 [==========================>...] - ETA: 0s - loss: 1.2318 - sparse_categorical_accuracy: 0.6377\n",
      "Epoch 00015: val_sparse_categorical_accuracy did not improve from 0.54503\n",
      "53/53 [==============================] - 1s 16ms/step - loss: 1.2307 - sparse_categorical_accuracy: 0.6376 - val_loss: 1.5959 - val_sparse_categorical_accuracy: 0.5418\n",
      "Epoch 16/100\n",
      "53/53 [==============================] - ETA: 0s - loss: 1.2103 - sparse_categorical_accuracy: 0.6430\n",
      "Epoch 00016: val_sparse_categorical_accuracy did not improve from 0.54503\n",
      "53/53 [==============================] - 1s 16ms/step - loss: 1.2103 - sparse_categorical_accuracy: 0.6430 - val_loss: 1.5983 - val_sparse_categorical_accuracy: 0.5416\n",
      "Epoch 17/100\n",
      "49/53 [==========================>...] - ETA: 0s - loss: 1.1893 - sparse_categorical_accuracy: 0.6472\n",
      "Epoch 00017: val_sparse_categorical_accuracy did not improve from 0.54503\n",
      "53/53 [==============================] - 1s 16ms/step - loss: 1.1896 - sparse_categorical_accuracy: 0.6474 - val_loss: 1.6064 - val_sparse_categorical_accuracy: 0.5422\n",
      "Epoch 18/100\n",
      "52/53 [============================>.] - ETA: 0s - loss: 1.1696 - sparse_categorical_accuracy: 0.6527\n",
      "Epoch 00018: val_sparse_categorical_accuracy did not improve from 0.54503\n",
      "53/53 [==============================] - 1s 15ms/step - loss: 1.1697 - sparse_categorical_accuracy: 0.6525 - val_loss: 1.6121 - val_sparse_categorical_accuracy: 0.5410\n",
      "Epoch 19/100\n",
      "53/53 [==============================] - ETA: 0s - loss: 1.1488 - sparse_categorical_accuracy: 0.6574\n",
      "Epoch 00019: val_sparse_categorical_accuracy did not improve from 0.54503\n",
      "53/53 [==============================] - 1s 15ms/step - loss: 1.1488 - sparse_categorical_accuracy: 0.6574 - val_loss: 1.6162 - val_sparse_categorical_accuracy: 0.5396\n",
      "Epoch 20/100\n",
      "53/53 [==============================] - ETA: 0s - loss: 1.1300 - sparse_categorical_accuracy: 0.6626\n",
      "Epoch 00020: val_sparse_categorical_accuracy did not improve from 0.54503\n",
      "53/53 [==============================] - 1s 17ms/step - loss: 1.1300 - sparse_categorical_accuracy: 0.6626 - val_loss: 1.6109 - val_sparse_categorical_accuracy: 0.5434\n",
      "Epoch 21/100\n",
      "51/53 [===========================>..] - ETA: 0s - loss: 1.1114 - sparse_categorical_accuracy: 0.6673\n",
      "Epoch 00021: val_sparse_categorical_accuracy did not improve from 0.54503\n",
      "53/53 [==============================] - 1s 16ms/step - loss: 1.1108 - sparse_categorical_accuracy: 0.6674 - val_loss: 1.6180 - val_sparse_categorical_accuracy: 0.5403\n",
      "Epoch 22/100\n",
      "53/53 [==============================] - ETA: 0s - loss: 1.0929 - sparse_categorical_accuracy: 0.6728\n",
      "Epoch 00022: val_sparse_categorical_accuracy did not improve from 0.54503\n",
      "53/53 [==============================] - 1s 18ms/step - loss: 1.0929 - sparse_categorical_accuracy: 0.6728 - val_loss: 1.6246 - val_sparse_categorical_accuracy: 0.5405\n",
      "Epoch 23/100\n",
      "53/53 [==============================] - ETA: 0s - loss: 1.0744 - sparse_categorical_accuracy: 0.6780\n",
      "Epoch 00023: val_sparse_categorical_accuracy did not improve from 0.54503\n",
      "53/53 [==============================] - 1s 16ms/step - loss: 1.0744 - sparse_categorical_accuracy: 0.6780 - val_loss: 1.6333 - val_sparse_categorical_accuracy: 0.5410\n",
      "Epoch 24/100\n",
      "51/53 [===========================>..] - ETA: 0s - loss: 1.0560 - sparse_categorical_accuracy: 0.6829\n",
      "Epoch 00024: val_sparse_categorical_accuracy did not improve from 0.54503\n",
      "53/53 [==============================] - 1s 15ms/step - loss: 1.0576 - sparse_categorical_accuracy: 0.6821 - val_loss: 1.6433 - val_sparse_categorical_accuracy: 0.5398\n",
      "Epoch 25/100\n",
      "51/53 [===========================>..] - ETA: 0s - loss: 1.0401 - sparse_categorical_accuracy: 0.6858\n",
      "Epoch 00025: val_sparse_categorical_accuracy did not improve from 0.54503\n",
      "53/53 [==============================] - 1s 15ms/step - loss: 1.0412 - sparse_categorical_accuracy: 0.6855 - val_loss: 1.6579 - val_sparse_categorical_accuracy: 0.5326\n",
      "Epoch 26/100\n",
      "51/53 [===========================>..] - ETA: 0s - loss: 1.0253 - sparse_categorical_accuracy: 0.6897\n",
      "Epoch 00026: val_sparse_categorical_accuracy did not improve from 0.54503\n",
      "53/53 [==============================] - 1s 15ms/step - loss: 1.0252 - sparse_categorical_accuracy: 0.6894 - val_loss: 1.6628 - val_sparse_categorical_accuracy: 0.5423\n",
      "Epoch 27/100\n",
      "52/53 [============================>.] - ETA: 0s - loss: 1.0094 - sparse_categorical_accuracy: 0.6923\n",
      "Epoch 00027: val_sparse_categorical_accuracy did not improve from 0.54503\n",
      "53/53 [==============================] - 1s 17ms/step - loss: 1.0091 - sparse_categorical_accuracy: 0.6925 - val_loss: 1.6683 - val_sparse_categorical_accuracy: 0.5372\n",
      "Epoch 28/100\n",
      "51/53 [===========================>..] - ETA: 0s - loss: 0.9932 - sparse_categorical_accuracy: 0.6984\n",
      "Epoch 00028: val_sparse_categorical_accuracy did not improve from 0.54503\n",
      "53/53 [==============================] - 1s 15ms/step - loss: 0.9948 - sparse_categorical_accuracy: 0.6977 - val_loss: 1.6794 - val_sparse_categorical_accuracy: 0.5394\n",
      "Epoch 29/100\n",
      "51/53 [===========================>..] - ETA: 0s - loss: 0.9769 - sparse_categorical_accuracy: 0.7030- ETA: 0s - loss: 0.9652 - sparse_categorical_accuracy: 0.7\n",
      "Epoch 00029: val_sparse_categorical_accuracy did not improve from 0.54503\n",
      "53/53 [==============================] - 1s 16ms/step - loss: 0.9799 - sparse_categorical_accuracy: 0.7025 - val_loss: 1.6895 - val_sparse_categorical_accuracy: 0.5387\n",
      "Epoch 30/100\n",
      "51/53 [===========================>..] - ETA: 0s - loss: 0.9618 - sparse_categorical_accuracy: 0.7063\n",
      "Epoch 00030: val_sparse_categorical_accuracy did not improve from 0.54503\n",
      "53/53 [==============================] - 1s 16ms/step - loss: 0.9659 - sparse_categorical_accuracy: 0.7053 - val_loss: 1.7031 - val_sparse_categorical_accuracy: 0.5363\n",
      "Epoch 31/100\n",
      "50/53 [===========================>..] - ETA: 0s - loss: 0.9490 - sparse_categorical_accuracy: 0.7097\n",
      "Epoch 00031: val_sparse_categorical_accuracy did not improve from 0.54503\n",
      "53/53 [==============================] - 1s 15ms/step - loss: 0.9516 - sparse_categorical_accuracy: 0.7091 - val_loss: 1.7179 - val_sparse_categorical_accuracy: 0.5352\n",
      "Epoch 32/100\n",
      "53/53 [==============================] - ETA: 0s - loss: 0.9384 - sparse_categorical_accuracy: 0.7135\n",
      "Epoch 00032: val_sparse_categorical_accuracy did not improve from 0.54503\n",
      "53/53 [==============================] - 1s 16ms/step - loss: 0.9384 - sparse_categorical_accuracy: 0.7135 - val_loss: 1.7350 - val_sparse_categorical_accuracy: 0.5395\n",
      "Epoch 33/100\n",
      "49/53 [==========================>...] - ETA: 0s - loss: 0.9252 - sparse_categorical_accuracy: 0.7170\n",
      "Epoch 00033: val_sparse_categorical_accuracy did not improve from 0.54503\n",
      "53/53 [==============================] - 1s 15ms/step - loss: 0.9261 - sparse_categorical_accuracy: 0.7167 - val_loss: 1.7552 - val_sparse_categorical_accuracy: 0.5294\n",
      "Epoch 34/100\n",
      "53/53 [==============================] - ETA: 0s - loss: 0.9135 - sparse_categorical_accuracy: 0.7214\n",
      "Epoch 00034: val_sparse_categorical_accuracy did not improve from 0.54503\n",
      "53/53 [==============================] - 1s 17ms/step - loss: 0.9135 - sparse_categorical_accuracy: 0.7214 - val_loss: 1.7632 - val_sparse_categorical_accuracy: 0.5311\n",
      "Epoch 35/100\n",
      "51/53 [===========================>..] - ETA: 0s - loss: 0.9017 - sparse_categorical_accuracy: 0.7241\n",
      "Epoch 00035: val_sparse_categorical_accuracy did not improve from 0.54503\n",
      "53/53 [==============================] - 1s 16ms/step - loss: 0.9012 - sparse_categorical_accuracy: 0.7242 - val_loss: 1.7780 - val_sparse_categorical_accuracy: 0.5321\n",
      "Epoch 36/100\n",
      "50/53 [===========================>..] - ETA: 0s - loss: 0.8871 - sparse_categorical_accuracy: 0.7285\n",
      "Epoch 00036: val_sparse_categorical_accuracy did not improve from 0.54503\n",
      "53/53 [==============================] - 1s 16ms/step - loss: 0.8893 - sparse_categorical_accuracy: 0.7277 - val_loss: 1.7999 - val_sparse_categorical_accuracy: 0.5284\n",
      "Epoch 37/100\n",
      "52/53 [============================>.] - ETA: 0s - loss: 0.8761 - sparse_categorical_accuracy: 0.7325\n",
      "Epoch 00037: val_sparse_categorical_accuracy did not improve from 0.54503\n",
      "53/53 [==============================] - 1s 16ms/step - loss: 0.8779 - sparse_categorical_accuracy: 0.7318 - val_loss: 1.8128 - val_sparse_categorical_accuracy: 0.5310\n",
      "Epoch 38/100\n",
      "52/53 [============================>.] - ETA: 0s - loss: 0.8666 - sparse_categorical_accuracy: 0.7351\n",
      "Epoch 00038: val_sparse_categorical_accuracy did not improve from 0.54503\n",
      "53/53 [==============================] - 1s 17ms/step - loss: 0.8675 - sparse_categorical_accuracy: 0.7345 - val_loss: 1.8346 - val_sparse_categorical_accuracy: 0.5226\n",
      "Epoch 39/100\n",
      "51/53 [===========================>..] - ETA: 0s - loss: 0.8560 - sparse_categorical_accuracy: 0.7359\n",
      "Epoch 00039: val_sparse_categorical_accuracy did not improve from 0.54503\n",
      "53/53 [==============================] - 1s 16ms/step - loss: 0.8573 - sparse_categorical_accuracy: 0.7355 - val_loss: 1.8507 - val_sparse_categorical_accuracy: 0.5260\n",
      "Epoch 40/100\n",
      "52/53 [============================>.] - ETA: 0s - loss: 0.8457 - sparse_categorical_accuracy: 0.7407\n",
      "Epoch 00040: val_sparse_categorical_accuracy did not improve from 0.54503\n",
      "53/53 [==============================] - 1s 20ms/step - loss: 0.8460 - sparse_categorical_accuracy: 0.7406 - val_loss: 1.8743 - val_sparse_categorical_accuracy: 0.5261\n",
      "Epoch 41/100\n",
      "51/53 [===========================>..] - ETA: 0s - loss: 0.8366 - sparse_categorical_accuracy: 0.7419\n",
      "Epoch 00041: val_sparse_categorical_accuracy did not improve from 0.54503\n",
      "53/53 [==============================] - 1s 16ms/step - loss: 0.8373 - sparse_categorical_accuracy: 0.7417 - val_loss: 1.8891 - val_sparse_categorical_accuracy: 0.5219\n",
      "Epoch 42/100\n",
      "51/53 [===========================>..] - ETA: 0s - loss: 0.8267 - sparse_categorical_accuracy: 0.7460\n",
      "Epoch 00042: val_sparse_categorical_accuracy did not improve from 0.54503\n",
      "53/53 [==============================] - 1s 15ms/step - loss: 0.8278 - sparse_categorical_accuracy: 0.7453 - val_loss: 1.9087 - val_sparse_categorical_accuracy: 0.5259\n",
      "Epoch 43/100\n",
      "50/53 [===========================>..] - ETA: 0s - loss: 0.8195 - sparse_categorical_accuracy: 0.7460\n",
      "Epoch 00043: val_sparse_categorical_accuracy did not improve from 0.54503\n",
      "53/53 [==============================] - 1s 17ms/step - loss: 0.8182 - sparse_categorical_accuracy: 0.7464 - val_loss: 1.9373 - val_sparse_categorical_accuracy: 0.5159\n",
      "Epoch 44/100\n",
      "51/53 [===========================>..] - ETA: 0s - loss: 0.8077 - sparse_categorical_accuracy: 0.7510- ETA: 0s - loss: 0.7912 - sparse_categorical_accuracy: 0\n",
      "Epoch 00044: val_sparse_categorical_accuracy did not improve from 0.54503\n",
      "53/53 [==============================] - 1s 18ms/step - loss: 0.8094 - sparse_categorical_accuracy: 0.7503 - val_loss: 1.9484 - val_sparse_categorical_accuracy: 0.5133\n",
      "Epoch 45/100\n",
      "52/53 [============================>.] - ETA: 0s - loss: 0.7996 - sparse_categorical_accuracy: 0.7532\n",
      "Epoch 00045: val_sparse_categorical_accuracy did not improve from 0.54503\n",
      "53/53 [==============================] - 1s 18ms/step - loss: 0.8001 - sparse_categorical_accuracy: 0.7533 - val_loss: 1.9790 - val_sparse_categorical_accuracy: 0.5158\n",
      "Epoch 46/100\n",
      "49/53 [==========================>...] - ETA: 0s - loss: 0.7890 - sparse_categorical_accuracy: 0.7570\n",
      "Epoch 00046: val_sparse_categorical_accuracy did not improve from 0.54503\n",
      "53/53 [==============================] - 1s 17ms/step - loss: 0.7920 - sparse_categorical_accuracy: 0.7557 - val_loss: 2.0027 - val_sparse_categorical_accuracy: 0.5121\n",
      "Epoch 47/100\n",
      "50/53 [===========================>..] - ETA: 0s - loss: 0.7818 - sparse_categorical_accuracy: 0.7591- ETA: 0s - loss: 0.7693 - sparse_categorical_accuracy: 0\n",
      "Epoch 00047: val_sparse_categorical_accuracy did not improve from 0.54503\n",
      "53/53 [==============================] - 1s 16ms/step - loss: 0.7833 - sparse_categorical_accuracy: 0.7580 - val_loss: 2.0227 - val_sparse_categorical_accuracy: 0.5127\n",
      "Epoch 48/100\n",
      "51/53 [===========================>..] - ETA: 0s - loss: 0.7743 - sparse_categorical_accuracy: 0.7609\n",
      "Epoch 00048: val_sparse_categorical_accuracy did not improve from 0.54503\n",
      "53/53 [==============================] - 1s 16ms/step - loss: 0.7757 - sparse_categorical_accuracy: 0.7604 - val_loss: 2.0382 - val_sparse_categorical_accuracy: 0.5149\n",
      "Epoch 49/100\n",
      "51/53 [===========================>..] - ETA: 0s - loss: 0.7668 - sparse_categorical_accuracy: 0.7619\n",
      "Epoch 00049: val_sparse_categorical_accuracy did not improve from 0.54503\n",
      "53/53 [==============================] - 1s 16ms/step - loss: 0.7675 - sparse_categorical_accuracy: 0.7615 - val_loss: 2.0571 - val_sparse_categorical_accuracy: 0.5146\n",
      "Epoch 50/100\n",
      "53/53 [==============================] - ETA: 0s - loss: 0.7589 - sparse_categorical_accuracy: 0.7667\n",
      "Epoch 00050: val_sparse_categorical_accuracy did not improve from 0.54503\n",
      "53/53 [==============================] - 1s 17ms/step - loss: 0.7589 - sparse_categorical_accuracy: 0.7667 - val_loss: 2.1030 - val_sparse_categorical_accuracy: 0.5050\n",
      "Epoch 51/100\n",
      "51/53 [===========================>..] - ETA: 0s - loss: 0.7498 - sparse_categorical_accuracy: 0.7683\n",
      "Epoch 00051: val_sparse_categorical_accuracy did not improve from 0.54503\n",
      "53/53 [==============================] - 1s 16ms/step - loss: 0.7506 - sparse_categorical_accuracy: 0.7679 - val_loss: 2.1083 - val_sparse_categorical_accuracy: 0.5125\n",
      "Epoch 52/100\n",
      "50/53 [===========================>..] - ETA: 0s - loss: 0.7429 - sparse_categorical_accuracy: 0.7699\n",
      "Epoch 00052: val_sparse_categorical_accuracy did not improve from 0.54503\n",
      "53/53 [==============================] - 1s 16ms/step - loss: 0.7427 - sparse_categorical_accuracy: 0.7698 - val_loss: 2.1367 - val_sparse_categorical_accuracy: 0.5100\n",
      "Epoch 53/100\n",
      "51/53 [===========================>..] - ETA: 0s - loss: 0.7357 - sparse_categorical_accuracy: 0.7729- ETA: 0s - loss: 0.7116 - sparse_categorical_accuracy: 0\n",
      "Epoch 00053: val_sparse_categorical_accuracy did not improve from 0.54503\n",
      "53/53 [==============================] - 1s 15ms/step - loss: 0.7362 - sparse_categorical_accuracy: 0.7726 - val_loss: 2.1547 - val_sparse_categorical_accuracy: 0.5101\n",
      "Epoch 54/100\n",
      "51/53 [===========================>..] - ETA: 0s - loss: 0.7275 - sparse_categorical_accuracy: 0.7752\n",
      "Epoch 00054: val_sparse_categorical_accuracy did not improve from 0.54503\n",
      "53/53 [==============================] - 1s 15ms/step - loss: 0.7295 - sparse_categorical_accuracy: 0.7747 - val_loss: 2.1701 - val_sparse_categorical_accuracy: 0.5106\n",
      "Epoch 55/100\n",
      "50/53 [===========================>..] - ETA: 0s - loss: 0.7179 - sparse_categorical_accuracy: 0.7782\n",
      "Epoch 00055: val_sparse_categorical_accuracy did not improve from 0.54503\n",
      "53/53 [==============================] - 1s 16ms/step - loss: 0.7202 - sparse_categorical_accuracy: 0.7773 - val_loss: 2.2027 - val_sparse_categorical_accuracy: 0.5112\n",
      "Epoch 56/100\n",
      "53/53 [==============================] - ETA: 0s - loss: 0.7133 - sparse_categorical_accuracy: 0.7804\n",
      "Epoch 00056: val_sparse_categorical_accuracy did not improve from 0.54503\n",
      "53/53 [==============================] - 1s 17ms/step - loss: 0.7133 - sparse_categorical_accuracy: 0.7804 - val_loss: 2.2326 - val_sparse_categorical_accuracy: 0.4991\n",
      "Epoch 57/100\n",
      "49/53 [==========================>...] - ETA: 0s - loss: 0.7007 - sparse_categorical_accuracy: 0.7842\n",
      "Epoch 00057: val_sparse_categorical_accuracy did not improve from 0.54503\n",
      "53/53 [==============================] - 1s 15ms/step - loss: 0.7061 - sparse_categorical_accuracy: 0.7819 - val_loss: 2.2464 - val_sparse_categorical_accuracy: 0.5093\n",
      "Epoch 58/100\n",
      "50/53 [===========================>..] - ETA: 0s - loss: 0.6971 - sparse_categorical_accuracy: 0.7829\n",
      "Epoch 00058: val_sparse_categorical_accuracy did not improve from 0.54503\n",
      "53/53 [==============================] - 1s 15ms/step - loss: 0.6998 - sparse_categorical_accuracy: 0.7826 - val_loss: 2.2805 - val_sparse_categorical_accuracy: 0.5049\n",
      "Epoch 59/100\n",
      "50/53 [===========================>..] - ETA: 0s - loss: 0.6899 - sparse_categorical_accuracy: 0.7870\n",
      "Epoch 00059: val_sparse_categorical_accuracy did not improve from 0.54503\n",
      "53/53 [==============================] - 1s 15ms/step - loss: 0.6921 - sparse_categorical_accuracy: 0.7864 - val_loss: 2.3044 - val_sparse_categorical_accuracy: 0.5047\n",
      "Epoch 60/100\n",
      "53/53 [==============================] - ETA: 0s - loss: 0.6849 - sparse_categorical_accuracy: 0.7890\n",
      "Epoch 00060: val_sparse_categorical_accuracy did not improve from 0.54503\n",
      "53/53 [==============================] - 1s 15ms/step - loss: 0.6849 - sparse_categorical_accuracy: 0.7890 - val_loss: 2.3319 - val_sparse_categorical_accuracy: 0.5002\n",
      "Epoch 61/100\n",
      "50/53 [===========================>..] - ETA: 0s - loss: 0.6733 - sparse_categorical_accuracy: 0.7923\n",
      "Epoch 00061: val_sparse_categorical_accuracy did not improve from 0.54503\n",
      "53/53 [==============================] - 1s 16ms/step - loss: 0.6776 - sparse_categorical_accuracy: 0.7905 - val_loss: 2.3445 - val_sparse_categorical_accuracy: 0.4957\n",
      "Epoch 62/100\n",
      "53/53 [==============================] - ETA: 0s - loss: 0.6711 - sparse_categorical_accuracy: 0.7927\n",
      "Epoch 00062: val_sparse_categorical_accuracy did not improve from 0.54503\n",
      "53/53 [==============================] - 1s 15ms/step - loss: 0.6711 - sparse_categorical_accuracy: 0.7927 - val_loss: 2.3687 - val_sparse_categorical_accuracy: 0.4982\n",
      "Epoch 63/100\n",
      "52/53 [============================>.] - ETA: 0s - loss: 0.6645 - sparse_categorical_accuracy: 0.7947\n",
      "Epoch 00063: val_sparse_categorical_accuracy did not improve from 0.54503\n",
      "53/53 [==============================] - 1s 14ms/step - loss: 0.6646 - sparse_categorical_accuracy: 0.7946 - val_loss: 2.3974 - val_sparse_categorical_accuracy: 0.4992\n",
      "Epoch 64/100\n",
      "48/53 [==========================>...] - ETA: 0s - loss: 0.6542 - sparse_categorical_accuracy: 0.7984\n",
      "Epoch 00064: val_sparse_categorical_accuracy did not improve from 0.54503\n",
      "53/53 [==============================] - 1s 15ms/step - loss: 0.6569 - sparse_categorical_accuracy: 0.7967 - val_loss: 2.4406 - val_sparse_categorical_accuracy: 0.4937\n",
      "Epoch 65/100\n",
      "52/53 [============================>.] - ETA: 0s - loss: 0.6496 - sparse_categorical_accuracy: 0.7991\n",
      "Epoch 00065: val_sparse_categorical_accuracy did not improve from 0.54503\n",
      "53/53 [==============================] - 1s 15ms/step - loss: 0.6505 - sparse_categorical_accuracy: 0.7987 - val_loss: 2.4738 - val_sparse_categorical_accuracy: 0.4939\n",
      "Epoch 66/100\n",
      "52/53 [============================>.] - ETA: 0s - loss: 0.6416 - sparse_categorical_accuracy: 0.8019\n",
      "Epoch 00066: val_sparse_categorical_accuracy did not improve from 0.54503\n",
      "53/53 [==============================] - 1s 15ms/step - loss: 0.6431 - sparse_categorical_accuracy: 0.8016 - val_loss: 2.4825 - val_sparse_categorical_accuracy: 0.4929\n",
      "Epoch 67/100\n",
      "51/53 [===========================>..] - ETA: 0s - loss: 0.6357 - sparse_categorical_accuracy: 0.8046\n",
      "Epoch 00067: val_sparse_categorical_accuracy did not improve from 0.54503\n",
      "53/53 [==============================] - 1s 15ms/step - loss: 0.6364 - sparse_categorical_accuracy: 0.8039 - val_loss: 2.5149 - val_sparse_categorical_accuracy: 0.4930\n",
      "Epoch 68/100\n",
      "50/53 [===========================>..] - ETA: 0s - loss: 0.6298 - sparse_categorical_accuracy: 0.8061\n",
      "Epoch 00068: val_sparse_categorical_accuracy did not improve from 0.54503\n",
      "53/53 [==============================] - 1s 16ms/step - loss: 0.6307 - sparse_categorical_accuracy: 0.8055 - val_loss: 2.5421 - val_sparse_categorical_accuracy: 0.4946\n",
      "Epoch 69/100\n",
      "53/53 [==============================] - ETA: 0s - loss: 0.6245 - sparse_categorical_accuracy: 0.8060\n",
      "Epoch 00069: val_sparse_categorical_accuracy did not improve from 0.54503\n",
      "53/53 [==============================] - 1s 16ms/step - loss: 0.6245 - sparse_categorical_accuracy: 0.8060 - val_loss: 2.5690 - val_sparse_categorical_accuracy: 0.4909\n",
      "Epoch 70/100\n",
      "50/53 [===========================>..] - ETA: 0s - loss: 0.6149 - sparse_categorical_accuracy: 0.8116\n",
      "Epoch 00070: val_sparse_categorical_accuracy did not improve from 0.54503\n",
      "53/53 [==============================] - 1s 15ms/step - loss: 0.6169 - sparse_categorical_accuracy: 0.8102 - val_loss: 2.6023 - val_sparse_categorical_accuracy: 0.4899\n",
      "Epoch 71/100\n",
      "51/53 [===========================>..] - ETA: 0s - loss: 0.6079 - sparse_categorical_accuracy: 0.8134\n",
      "Epoch 00071: val_sparse_categorical_accuracy did not improve from 0.54503\n",
      "53/53 [==============================] - 1s 16ms/step - loss: 0.6102 - sparse_categorical_accuracy: 0.8125 - val_loss: 2.6267 - val_sparse_categorical_accuracy: 0.4953\n",
      "Epoch 72/100\n",
      "53/53 [==============================] - ETA: 0s - loss: 0.6036 - sparse_categorical_accuracy: 0.8143- ETA: 0s - loss: 0.5773 - sparse_categorical_accurac\n",
      "Epoch 00072: val_sparse_categorical_accuracy did not improve from 0.54503\n",
      "53/53 [==============================] - 1s 18ms/step - loss: 0.6036 - sparse_categorical_accuracy: 0.8143 - val_loss: 2.6677 - val_sparse_categorical_accuracy: 0.4845\n",
      "Epoch 73/100\n",
      "53/53 [==============================] - ETA: 0s - loss: 0.5973 - sparse_categorical_accuracy: 0.8163\n",
      "Epoch 00073: val_sparse_categorical_accuracy did not improve from 0.54503\n",
      "53/53 [==============================] - 1s 16ms/step - loss: 0.5973 - sparse_categorical_accuracy: 0.8163 - val_loss: 2.7022 - val_sparse_categorical_accuracy: 0.4850\n",
      "Epoch 74/100\n",
      "49/53 [==========================>...] - ETA: 0s - loss: 0.5885 - sparse_categorical_accuracy: 0.8198\n",
      "Epoch 00074: val_sparse_categorical_accuracy did not improve from 0.54503\n",
      "53/53 [==============================] - 1s 14ms/step - loss: 0.5916 - sparse_categorical_accuracy: 0.8185 - val_loss: 2.7271 - val_sparse_categorical_accuracy: 0.4891\n",
      "Epoch 75/100\n",
      "51/53 [===========================>..] - ETA: 0s - loss: 0.5825 - sparse_categorical_accuracy: 0.8223\n",
      "Epoch 00075: val_sparse_categorical_accuracy did not improve from 0.54503\n",
      "53/53 [==============================] - 1s 15ms/step - loss: 0.5847 - sparse_categorical_accuracy: 0.8214 - val_loss: 2.7590 - val_sparse_categorical_accuracy: 0.4858\n",
      "Epoch 76/100\n",
      "51/53 [===========================>..] - ETA: 0s - loss: 0.5779 - sparse_categorical_accuracy: 0.8239\n",
      "Epoch 00076: val_sparse_categorical_accuracy did not improve from 0.54503\n",
      "53/53 [==============================] - 1s 15ms/step - loss: 0.5786 - sparse_categorical_accuracy: 0.8230 - val_loss: 2.7904 - val_sparse_categorical_accuracy: 0.4783\n",
      "Epoch 77/100\n",
      "51/53 [===========================>..] - ETA: 0s - loss: 0.5719 - sparse_categorical_accuracy: 0.8256\n",
      "Epoch 00077: val_sparse_categorical_accuracy did not improve from 0.54503\n",
      "53/53 [==============================] - 1s 15ms/step - loss: 0.5725 - sparse_categorical_accuracy: 0.8252 - val_loss: 2.8150 - val_sparse_categorical_accuracy: 0.4857\n",
      "Epoch 78/100\n",
      "52/53 [============================>.] - ETA: 0s - loss: 0.5666 - sparse_categorical_accuracy: 0.8272\n",
      "Epoch 00078: val_sparse_categorical_accuracy did not improve from 0.54503\n",
      "53/53 [==============================] - 1s 16ms/step - loss: 0.5666 - sparse_categorical_accuracy: 0.8272 - val_loss: 2.8350 - val_sparse_categorical_accuracy: 0.4869\n",
      "Epoch 79/100\n",
      "50/53 [===========================>..] - ETA: 0s - loss: 0.5594 - sparse_categorical_accuracy: 0.8301\n",
      "Epoch 00079: val_sparse_categorical_accuracy did not improve from 0.54503\n",
      "53/53 [==============================] - 1s 20ms/step - loss: 0.5603 - sparse_categorical_accuracy: 0.8292 - val_loss: 2.8671 - val_sparse_categorical_accuracy: 0.4819\n",
      "Epoch 80/100\n",
      "49/53 [==========================>...] - ETA: 0s - loss: 0.5524 - sparse_categorical_accuracy: 0.8317\n",
      "Epoch 00080: val_sparse_categorical_accuracy did not improve from 0.54503\n",
      "53/53 [==============================] - 1s 15ms/step - loss: 0.5550 - sparse_categorical_accuracy: 0.8307 - val_loss: 2.9098 - val_sparse_categorical_accuracy: 0.4868\n",
      "Epoch 81/100\n",
      "49/53 [==========================>...] - ETA: 0s - loss: 0.5450 - sparse_categorical_accuracy: 0.8351\n",
      "Epoch 00081: val_sparse_categorical_accuracy did not improve from 0.54503\n",
      "53/53 [==============================] - 1s 15ms/step - loss: 0.5484 - sparse_categorical_accuracy: 0.8339 - val_loss: 2.9332 - val_sparse_categorical_accuracy: 0.4802\n",
      "Epoch 82/100\n",
      "51/53 [===========================>..] - ETA: 0s - loss: 0.5409 - sparse_categorical_accuracy: 0.8370\n",
      "Epoch 00082: val_sparse_categorical_accuracy did not improve from 0.54503\n",
      "53/53 [==============================] - 1s 15ms/step - loss: 0.5431 - sparse_categorical_accuracy: 0.8361 - val_loss: 2.9854 - val_sparse_categorical_accuracy: 0.4760\n",
      "Epoch 83/100\n",
      "51/53 [===========================>..] - ETA: 0s - loss: 0.5338 - sparse_categorical_accuracy: 0.8387\n",
      "Epoch 00083: val_sparse_categorical_accuracy did not improve from 0.54503\n",
      "53/53 [==============================] - 1s 15ms/step - loss: 0.5367 - sparse_categorical_accuracy: 0.8376 - val_loss: 3.0039 - val_sparse_categorical_accuracy: 0.4850\n",
      "Epoch 84/100\n",
      "52/53 [============================>.] - ETA: 0s - loss: 0.5309 - sparse_categorical_accuracy: 0.8386\n",
      "Epoch 00084: val_sparse_categorical_accuracy did not improve from 0.54503\n",
      "53/53 [==============================] - 1s 15ms/step - loss: 0.5312 - sparse_categorical_accuracy: 0.8387 - val_loss: 3.0351 - val_sparse_categorical_accuracy: 0.4789\n",
      "Epoch 85/100\n",
      "53/53 [==============================] - ETA: 0s - loss: 0.5253 - sparse_categorical_accuracy: 0.8418\n",
      "Epoch 00085: val_sparse_categorical_accuracy did not improve from 0.54503\n",
      "53/53 [==============================] - 1s 15ms/step - loss: 0.5253 - sparse_categorical_accuracy: 0.8418 - val_loss: 3.0745 - val_sparse_categorical_accuracy: 0.4806\n",
      "Epoch 86/100\n",
      "49/53 [==========================>...] - ETA: 0s - loss: 0.5180 - sparse_categorical_accuracy: 0.8434\n",
      "Epoch 00086: val_sparse_categorical_accuracy did not improve from 0.54503\n",
      "53/53 [==============================] - 1s 15ms/step - loss: 0.5196 - sparse_categorical_accuracy: 0.8425 - val_loss: 3.1294 - val_sparse_categorical_accuracy: 0.4761\n",
      "Epoch 87/100\n",
      "51/53 [===========================>..] - ETA: 0s - loss: 0.5117 - sparse_categorical_accuracy: 0.8465\n",
      "Epoch 00087: val_sparse_categorical_accuracy did not improve from 0.54503\n",
      "53/53 [==============================] - 1s 15ms/step - loss: 0.5133 - sparse_categorical_accuracy: 0.8459 - val_loss: 3.1443 - val_sparse_categorical_accuracy: 0.4756\n",
      "Epoch 88/100\n",
      "53/53 [==============================] - ETA: 0s - loss: 0.5075 - sparse_categorical_accuracy: 0.8480\n",
      "Epoch 00088: val_sparse_categorical_accuracy did not improve from 0.54503\n",
      "53/53 [==============================] - 1s 16ms/step - loss: 0.5075 - sparse_categorical_accuracy: 0.8480 - val_loss: 3.1957 - val_sparse_categorical_accuracy: 0.4676\n",
      "Epoch 89/100\n",
      "52/53 [============================>.] - ETA: 0s - loss: 0.4992 - sparse_categorical_accuracy: 0.8496\n",
      "Epoch 00089: val_sparse_categorical_accuracy did not improve from 0.54503\n",
      "53/53 [==============================] - 1s 15ms/step - loss: 0.5015 - sparse_categorical_accuracy: 0.8490 - val_loss: 3.2221 - val_sparse_categorical_accuracy: 0.4743\n",
      "Epoch 90/100\n",
      "53/53 [==============================] - ETA: 0s - loss: 0.4974 - sparse_categorical_accuracy: 0.8505\n",
      "Epoch 00090: val_sparse_categorical_accuracy did not improve from 0.54503\n",
      "53/53 [==============================] - 1s 15ms/step - loss: 0.4974 - sparse_categorical_accuracy: 0.8505 - val_loss: 3.2612 - val_sparse_categorical_accuracy: 0.4793\n",
      "Epoch 91/100\n",
      "53/53 [==============================] - ETA: 0s - loss: 0.4906 - sparse_categorical_accuracy: 0.8529\n",
      "Epoch 00091: val_sparse_categorical_accuracy did not improve from 0.54503\n",
      "53/53 [==============================] - 1s 15ms/step - loss: 0.4906 - sparse_categorical_accuracy: 0.8529 - val_loss: 3.3004 - val_sparse_categorical_accuracy: 0.4763\n",
      "Epoch 92/100\n",
      "51/53 [===========================>..] - ETA: 0s - loss: 0.4845 - sparse_categorical_accuracy: 0.8555\n",
      "Epoch 00092: val_sparse_categorical_accuracy did not improve from 0.54503\n",
      "53/53 [==============================] - 1s 15ms/step - loss: 0.4848 - sparse_categorical_accuracy: 0.8554 - val_loss: 3.3439 - val_sparse_categorical_accuracy: 0.4738\n",
      "Epoch 93/100\n",
      "50/53 [===========================>..] - ETA: 0s - loss: 0.4763 - sparse_categorical_accuracy: 0.8573\n",
      "Epoch 00093: val_sparse_categorical_accuracy did not improve from 0.54503\n",
      "53/53 [==============================] - 1s 15ms/step - loss: 0.4789 - sparse_categorical_accuracy: 0.8566 - val_loss: 3.3630 - val_sparse_categorical_accuracy: 0.4766\n",
      "Epoch 94/100\n",
      "52/53 [============================>.] - ETA: 0s - loss: 0.4712 - sparse_categorical_accuracy: 0.8606\n",
      "Epoch 00094: val_sparse_categorical_accuracy did not improve from 0.54503\n",
      "53/53 [==============================] - 1s 15ms/step - loss: 0.4723 - sparse_categorical_accuracy: 0.8603 - val_loss: 3.4110 - val_sparse_categorical_accuracy: 0.4700\n",
      "Epoch 95/100\n",
      "52/53 [============================>.] - ETA: 0s - loss: 0.4670 - sparse_categorical_accuracy: 0.8612\n",
      "Epoch 00095: val_sparse_categorical_accuracy did not improve from 0.54503\n",
      "53/53 [==============================] - 1s 15ms/step - loss: 0.4674 - sparse_categorical_accuracy: 0.8611 - val_loss: 3.4706 - val_sparse_categorical_accuracy: 0.4713\n",
      "Epoch 96/100\n",
      "53/53 [==============================] - ETA: 0s - loss: 0.4621 - sparse_categorical_accuracy: 0.8630\n",
      "Epoch 00096: val_sparse_categorical_accuracy did not improve from 0.54503\n",
      "53/53 [==============================] - 1s 16ms/step - loss: 0.4621 - sparse_categorical_accuracy: 0.8630 - val_loss: 3.4777 - val_sparse_categorical_accuracy: 0.4706\n",
      "Epoch 97/100\n",
      "53/53 [==============================] - ETA: 0s - loss: 0.4566 - sparse_categorical_accuracy: 0.8644\n",
      "Epoch 00097: val_sparse_categorical_accuracy did not improve from 0.54503\n",
      "53/53 [==============================] - 1s 15ms/step - loss: 0.4566 - sparse_categorical_accuracy: 0.8644 - val_loss: 3.5404 - val_sparse_categorical_accuracy: 0.4665\n",
      "Epoch 98/100\n",
      "52/53 [============================>.] - ETA: 0s - loss: 0.4506 - sparse_categorical_accuracy: 0.8675\n",
      "Epoch 00098: val_sparse_categorical_accuracy did not improve from 0.54503\n",
      "53/53 [==============================] - 1s 16ms/step - loss: 0.4512 - sparse_categorical_accuracy: 0.8672 - val_loss: 3.5817 - val_sparse_categorical_accuracy: 0.4730\n",
      "Epoch 99/100\n",
      "53/53 [==============================] - ETA: 0s - loss: 0.4459 - sparse_categorical_accuracy: 0.8688\n",
      "Epoch 00099: val_sparse_categorical_accuracy did not improve from 0.54503\n",
      "53/53 [==============================] - 1s 16ms/step - loss: 0.4459 - sparse_categorical_accuracy: 0.8688 - val_loss: 3.6389 - val_sparse_categorical_accuracy: 0.4610\n",
      "Epoch 100/100\n",
      "52/53 [============================>.] - ETA: 0s - loss: 0.4392 - sparse_categorical_accuracy: 0.8723\n",
      "Epoch 00100: val_sparse_categorical_accuracy did not improve from 0.54503\n",
      "53/53 [==============================] - 1s 15ms/step - loss: 0.4393 - sparse_categorical_accuracy: 0.8720 - val_loss: 3.6496 - val_sparse_categorical_accuracy: 0.4680\n"
     ]
    }
   ],
   "source": [
    "# определение оптимизатора\n",
    "optimizer = tf.keras.optimizers.RMSprop(learning_rate=LEARNING_RATE) \n",
    "#optimizer = tf.keras.optimizers.Adam()\n",
    "# определение функционала ошибки\n",
    "loss = tf.keras.losses.SparseCategoricalCrossentropy(from_logits=False)\n",
    "\n",
    "# сборка модели\n",
    "model.compile(optimizer=optimizer, loss=loss, metrics=[\"sparse_categorical_accuracy\"]) \n",
    "\n",
    "# обучение модели\n",
    "history_1 = model.fit(x_train, y_train, validation_data=(x_test, y_test), epochs=NUM_EPOCHS, verbose=1, batch_size=BATCH_SIZE, shuffle=True, callbacks=[checkpoint])"
   ]
  },
  {
   "cell_type": "code",
   "execution_count": 84,
   "id": "cd3097ca-1032-4b2f-85ff-19142228ee46",
   "metadata": {},
   "outputs": [
    {
     "data": {
      "text/plain": [
       "'C:\\\\Users\\\\София\\\\best_checkpoint_1_1.hdf5'"
      ]
     },
     "execution_count": 84,
     "metadata": {},
     "output_type": "execute_result"
    }
   ],
   "source": [
    "# модель сохранена в\n",
    "cpt_path"
   ]
  },
  {
   "cell_type": "code",
   "execution_count": null,
   "id": "88bfd466-fb73-4a69-baa1-45fee017b15c",
   "metadata": {
    "tags": []
   },
   "outputs": [],
   "source": [
    "# загрузка модели\n",
    "restored_model_1 = tf.keras.models.load_model(cpt_path)\n",
    "results_1_1 = restored_model_1.evaluate(x_test, y_test)\n",
    "print('Test loss: {:.4f}'.format(results_1_1[0]))\n",
    "print('Test accuracy: {:.2f} %'.format(results_1_1[1]*100))"
   ]
  },
  {
   "cell_type": "code",
   "execution_count": null,
   "id": "50694cf0-a7c9-418b-87fc-9bb16bcc52c9",
   "metadata": {},
   "outputs": [],
   "source": [
    "results = model.evaluate(x_test, y_test)\n",
    "print('Test loss: {:.4f}'.format(results[0]))\n",
    "print('Test accuracy: {:.2f} %'.format(results[1]*100))"
   ]
  },
  {
   "cell_type": "code",
   "execution_count": 87,
   "id": "750df6f0-296f-4033-99a8-c5be42ac4619",
   "metadata": {},
   "outputs": [],
   "source": [
    "def plots(history_):\n",
    "    #Графики лосса и точности на обучающем и валидационном датасетах\n",
    "    epochs = range(1, len(history_.history['sparse_categorical_accuracy']) + 1)\n",
    "\n",
    "    plt.figure()\n",
    "    plt.plot(epochs, history_.history['loss'], 'bo', label='Training loss')\n",
    "    plt.plot(epochs, history_.history['val_loss'], 'b', label='Validation loss')\n",
    "    plt.title('Training and validation loss')\n",
    "    plt.xlabel('Epochs')\n",
    "    plt.ylabel('Loss')\n",
    "    plt.legend()\n",
    "    plt.grid()\n",
    "\n",
    "    plt.figure()\n",
    "    plt.plot(epochs, history_.history['sparse_categorical_accuracy'], 'bo', label='Training acc')\n",
    "    plt.plot(epochs, history_.history['val_sparse_categorical_accuracy'], 'b', label='Validation acc')\n",
    "    plt.title('Training and validation accuracy')\n",
    "    plt.xlabel('Epochs')\n",
    "    plt.ylabel('Accuracy')\n",
    "    plt.legend()\n",
    "    plt.grid()"
   ]
  },
  {
   "cell_type": "code",
   "execution_count": 88,
   "id": "f31416c6-2801-4aa1-8972-b4379cf9166b",
   "metadata": {},
   "outputs": [
    {
     "data": {
      "image/png": "[encoded data removed]",
      "text/plain": [
       "<Figure size 432x288 with 1 Axes>"
      ]
     },
     "metadata": {
      "needs_background": "light"
     },
     "output_type": "display_data"
    },
    {
     "data": {
      "image/png": "[encoded data removed]",
      "text/plain": [
       "<Figure size 432x288 with 1 Axes>"
      ]
     },
     "metadata": {
      "needs_background": "light"
     },
     "output_type": "display_data"
    }
   ],
   "source": [
    "plots(history_1)"
   ]
  },
  {
   "cell_type": "code",
   "execution_count": 90,
   "id": "b30f51c9-dc76-4ddc-b77d-b297b8b8ecd6",
   "metadata": {},
   "outputs": [],
   "source": [
    "import random"
   ]
  },
  {
   "cell_type": "code",
   "execution_count": 92,
   "id": "86ada472-411b-4f0d-bbee-fde3351626aa",
   "metadata": {},
   "outputs": [
    {
     "name": "stdout",
     "output_type": "stream",
     "text": [
      "WARNING:tensorflow:From C:\\Users\\881F~1\\AppData\\Local\\Temp/ipykernel_11004/953899232.py:3: Sequential.predict_classes (from tensorflow.python.keras.engine.sequential) is deprecated and will be removed after 2021-01-01.\n",
      "Instructions for updating:\n",
      "Please use instead:* `np.argmax(model.predict(x), axis=-1)`,   if your model does multi-class classification   (e.g. if it uses a `softmax` last-layer activation).* `(model.predict(x) > 0.5).astype(\"int32\")`,   if your model does binary classification   (e.g. if it uses a `sigmoid` last-layer activation).\n",
      "documentary\n",
      "documentary\n"
     ]
    }
   ],
   "source": [
    "i = random.randint(0, x_test.shape[0])\n",
    "text_encoded = x_test[i]\n",
    "print(dict_labels_[model.predict_classes(np.array(text_encoded)[None, :])[0]])\n",
    "print(dict_labels_[y_test[i]])"
   ]
  },
  {
   "cell_type": "code",
   "execution_count": 93,
   "id": "71164cf8-8251-4500-99a9-aabdd0aada45",
   "metadata": {},
   "outputs": [
    {
     "data": {
      "text/plain": [
       "array([[2.1762202e-02, 1.3328958e-04, 2.7748829e-11, 8.4338278e-01,\n",
       "        4.3305956e-02, 3.1537173e-04, 6.4741466e-03, 2.2206683e-13,\n",
       "        3.3226158e-10, 6.0780213e-04, 2.1215632e-05, 2.6278809e-05,\n",
       "        6.2018111e-02, 1.3984082e-05, 1.9394052e-12, 2.3891784e-03,\n",
       "        2.7982131e-05, 9.5692552e-16, 3.8807685e-03, 5.8258286e-07,\n",
       "        2.5050379e-03, 8.7987230e-04, 3.7912212e-03, 6.1327937e-06,\n",
       "        3.7282382e-09, 8.3311384e-08, 8.4579429e-03]], dtype=float32)"
      ]
     },
     "execution_count": 93,
     "metadata": {},
     "output_type": "execute_result"
    }
   ],
   "source": [
    "# вероятности\n",
    "model.predict(np.array(text_encoded)[None, :])"
   ]
  },
  {
   "cell_type": "code",
   "execution_count": 94,
   "id": "b85aa0fb-b748-48d2-a0da-b539db792bf6",
   "metadata": {},
   "outputs": [
    {
     "data": {
      "text/plain": [
       "0.99999994"
      ]
     },
     "execution_count": 94,
     "metadata": {},
     "output_type": "execute_result"
    }
   ],
   "source": [
    "model.predict(np.array(text_encoded)[None, :]).sum() # сумма вероятностей по классам = 1"
   ]
  },
  {
   "cell_type": "code",
   "execution_count": null,
   "id": "3a6fb3fc-b4af-49a4-9c86-5de9ce2f7d0f",
   "metadata": {},
   "outputs": [],
   "source": []
  },
  {
   "cell_type": "markdown",
   "id": "b0e36021-30d1-48a2-9ecb-75c971b94cb3",
   "metadata": {},
   "source": [
    "#### 3.1.2 Через bag of words"
   ]
  },
  {
   "cell_type": "code",
   "execution_count": null,
   "id": "721c585c-08f8-4119-82ad-2dc8ba26b2e3",
   "metadata": {},
   "outputs": [],
   "source": [
    "# сохранение модели\n",
    "dir_path = pathlib.Path.home()\n",
    "cpt_filename = \"best_checkpoint_1_2.hdf5\"  \n",
    "cpt_path =str(dir_path / cpt_filename)"
   ]
  },
  {
   "cell_type": "code",
   "execution_count": null,
   "id": "38bac244-c31f-4b24-9665-0ef47bf45ab7",
   "metadata": {},
   "outputs": [],
   "source": [
    "# сохранение модели\n",
    "#cpt_path = \"best_checkpoint_1_2.hdf5\"\n",
    "\n",
    "if os.path.isfile(cpt_path): # удаление файла, если есть\n",
    "    os.remove(cpt_path)\n",
    "        \n",
    "checkpoint = tf.keras.callbacks.ModelCheckpoint(cpt_path, monitor='val_sparse_categorical_accuracy', verbose=1, save_best_only=True, mode='max')\n",
    "\n",
    "# определение модели    \n",
    "model = tf.keras.Sequential([\n",
    "    tf.keras.layers.Dense(NEURONS, input_shape=(VOCAB_SIZE, ), activation=tf.nn.relu),\n",
    "    tf.keras.layers.Dense(N, activation=tf.nn.softmax), # выходной слой (27 - кол-во предсказанных вероятностей на выходе)\n",
    "])\n",
    "\n",
    "model.summary()"
   ]
  },
  {
   "cell_type": "code",
   "execution_count": null,
   "id": "aafd1a42-1c0d-4204-8f15-66a653f00149",
   "metadata": {
    "tags": []
   },
   "outputs": [],
   "source": [
    "# определение оптимизатора\n",
    "optimizer = tf.keras.optimizers.RMSprop(learning_rate=LEARNING_RATE) \n",
    "#optimizer = tf.keras.optimizers.Adam()\n",
    "# определение функционала ошибки\n",
    "loss = tf.keras.losses.SparseCategoricalCrossentropy(from_logits=False)\n",
    "\n",
    "# сборка модели\n",
    "model.compile(optimizer=optimizer, loss=loss, metrics=[\"sparse_categorical_accuracy\"]) \n",
    "\n",
    "# обучение модели\n",
    "history_1 = model.fit(tok_train_, y_train, validation_data=(tok_test_, y_test), epochs=NUM_EPOCHS, verbose=1, batch_size=BATCH_SIZE, shuffle=True, callbacks=[checkpoint])"
   ]
  },
  {
   "cell_type": "code",
   "execution_count": null,
   "id": "de347ccd-3e11-4f28-91ed-0c0ab7dbc244",
   "metadata": {
    "tags": []
   },
   "outputs": [],
   "source": [
    "# загрузка модели\n",
    "restored_model_1 = tf.keras.models.load_model(cpt_path)\n",
    "results_1_2 = restored_model_1.evaluate(tok_test, y_test)\n",
    "print('Test loss: {:.4f}'.format(results_1_2[0]))\n",
    "print('Test accuracy: {:.2f} %'.format(results_1_2[1]*100))"
   ]
  },
  {
   "cell_type": "code",
   "execution_count": null,
   "id": "4263314c-7661-47ba-b8ef-35cbd703ba19",
   "metadata": {},
   "outputs": [],
   "source": [
    "results = model.evaluate(tok_test, y_test)\n",
    "print('Test loss: {:.4f}'.format(results[0]))\n",
    "print('Test accuracy: {:.2f} %'.format(results[1]*100))"
   ]
  },
  {
   "cell_type": "code",
   "execution_count": null,
   "id": "7db78ba2-875f-40cb-98e2-46dea03186a4",
   "metadata": {},
   "outputs": [],
   "source": [
    "plots(history_1)"
   ]
  },
  {
   "cell_type": "code",
   "execution_count": null,
   "id": "18a18121-8e0e-432d-87e2-d0ff1c58c1dc",
   "metadata": {},
   "outputs": [],
   "source": []
  },
  {
   "cell_type": "markdown",
   "id": "0e623d98-88ce-4faf-9a99-5081e0b9f4ba",
   "metadata": {},
   "source": [
    "#### 3.1.3 Обычная сеть прямого распространения с оптимизацией"
   ]
  },
  {
   "cell_type": "markdown",
   "id": "1058349b-5aec-4240-aa97-f1438d3e4ccf",
   "metadata": {},
   "source": [
    "##### 3.1.3.1 Через эмбеддинг"
   ]
  },
  {
   "cell_type": "code",
   "execution_count": null,
   "id": "d383df9d-7a06-4776-a081-ee9da08a3a0c",
   "metadata": {},
   "outputs": [],
   "source": [
    "def DL_Model(activation, neurons, emb_size):\n",
    "    # определение модели    \n",
    "    model = tf.keras.Sequential([\n",
    "        tf.keras.layers.Embedding(VOCAB_SIZE + 1, EMB_SIZE),\n",
    "        tf.keras.layers.GlobalAveragePooling1D(),\n",
    "        tf.keras.layers.Dense(neurons, activation=activation),\n",
    "        tf.keras.layers.Dense(N, activation=tf.nn.softmax), # выходной слой (8 - кол-во предсказанных вероятностей на выходе)\n",
    "        ])\n",
    "    optimizer = tf.keras.optimizers.Adam(learning_rate=LEARNING_RATE) \n",
    "    loss = tf.keras.losses.SparseCategoricalCrossentropy(from_logits=False)\n",
    "    model.compile(optimizer=optimizer, loss=loss, metrics=[\"accuracy\"]) \n",
    "    return model"
   ]
  },
  {
   "cell_type": "code",
   "execution_count": null,
   "id": "8e4e2426-ad08-4f1e-94d4-341112aa239c",
   "metadata": {},
   "outputs": [],
   "source": [
    "num_epochs = 20 # количество эпох\n",
    "\n",
    "emb_size = np.array([10, 20, 30]) # Размер векторного представления\n",
    "batches = 4096 # размер батча\n",
    "activation = ['tanh', 'relu', 'linear'] #'softmax', 'relu', 'tanh', 'sigmoid', 'linear' # функция активации\n",
    "neurons = [10, 20, 30] # количество нейронов на выходе предпоследнего слоя\n",
    "#optimizer = ['SGD', 'Adam'] #'SGD', 'Adam', 'Adamax' (как зафиксировать learning_rate?) # оптимизатор\n",
    "param_grid = dict(activation = activation, neurons = neurons, emb_size = emb_size)"
   ]
  },
  {
   "cell_type": "code",
   "execution_count": null,
   "id": "6dfd39be-179c-4789-a9fe-555cc43f6ce4",
   "metadata": {
    "tags": []
   },
   "outputs": [],
   "source": [
    "clf = KerasClassifier(build_fn=DL_Model, epochs=num_epochs, verbose=1, shuffle=True, batch_size=batches)\n",
    "model = GridSearchCV(estimator= clf, param_grid=param_grid)\n",
    "#model.fit(x_train, y_train) # долго считает, лучшие параметры ниже\n",
    "#print(model.best_params_) # лучшие параметры\n",
    "#model.best_score_"
   ]
  },
  {
   "cell_type": "code",
   "execution_count": null,
   "id": "8f7a63cb-07b3-43b7-bbe3-a16850204bb2",
   "metadata": {},
   "outputs": [],
   "source": [
    "#{'activation': 'tanh', 'emb_size': 10, 'neurons': 20}"
   ]
  },
  {
   "cell_type": "code",
   "execution_count": null,
   "id": "2a9fe4e4-c19c-412e-81ae-862c177cabf5",
   "metadata": {},
   "outputs": [],
   "source": []
  },
  {
   "cell_type": "code",
   "execution_count": null,
   "id": "789d7453-b17f-486b-b46f-af58d60d0095",
   "metadata": {},
   "outputs": [],
   "source": []
  },
  {
   "cell_type": "markdown",
   "id": "3ce750cb-a1cb-4ef8-a111-d9d803279b2e",
   "metadata": {},
   "source": [
    "### 3.2 Рекуррентная сеть через LSTM"
   ]
  },
  {
   "cell_type": "markdown",
   "id": "0ad65b0a-bea3-4f05-aacd-656472a092ad",
   "metadata": {
    "tags": []
   },
   "source": [
    "#### 3.2.1 Через эмбеддинг"
   ]
  },
  {
   "cell_type": "code",
   "execution_count": null,
   "id": "ea0c7fb2-3ff4-4865-83ff-c1249dd7a06d",
   "metadata": {},
   "outputs": [],
   "source": [
    "# сохранение модели\n",
    "dir_path = pathlib.Path.home()\n",
    "cpt_filename = \"best_checkpoint_2_1.hdf5\"  \n",
    "cpt_path =str(dir_path / cpt_filename)"
   ]
  },
  {
   "cell_type": "code",
   "execution_count": null,
   "id": "c95a7657-d3a3-4929-88da-a754bf45a685",
   "metadata": {
    "tags": []
   },
   "outputs": [],
   "source": [
    "# сохранение модели \n",
    "#cpt_path = \"best_checkpoint_2_1.hdf5\"  \n",
    "\n",
    "if os.path.isfile(cpt_path): # удаление файла, если есть\n",
    "    os.remove(cpt_path)\n",
    "        \n",
    "checkpoint = tf.keras.callbacks.ModelCheckpoint(cpt_path, monitor='val_sparse_categorical_accuracy', verbose=1, save_best_only=True, mode='max')\n",
    "\n",
    "# определение модели \n",
    "model = tf.keras.Sequential([\n",
    "    tf.keras.layers.Embedding(VOCAB_SIZE + 1, EMB_SIZE),\n",
    "    tf.keras.layers.LSTM(NEURONS, return_sequences=False),\n",
    "    tf.keras.layers.Dense(N, activation=tf.nn.softmax),\n",
    "])\n",
    "\n",
    "model.summary()"
   ]
  },
  {
   "cell_type": "code",
   "execution_count": null,
   "id": "daac3ea0-3f7e-40d1-b34c-d565b5783427",
   "metadata": {
    "tags": []
   },
   "outputs": [],
   "source": [
    "# определение оптимизатора\n",
    "optimizer = tf.keras.optimizers.Adam(learning_rate=LEARNING_RATE) \n",
    "\n",
    "# определение функционала ошибки\n",
    "loss = tf.keras.losses.SparseCategoricalCrossentropy(from_logits=False)\n",
    "\n",
    "# сборка модели\n",
    "model.compile(optimizer=optimizer, loss=loss, metrics=[\"sparse_categorical_accuracy\"]) \n",
    "\n",
    "# обучение модели\n",
    "history_2 = model.fit(x_train, y_train, validation_data=(x_test, y_test), epochs=NUM_EPOCHS, verbose=1, batch_size=BATCH_SIZE, shuffle=True, callbacks=[checkpoint])"
   ]
  },
  {
   "cell_type": "code",
   "execution_count": null,
   "id": "1356714a-0459-47c3-9ad1-cdfa2dcdfea6",
   "metadata": {},
   "outputs": [],
   "source": [
    "# загрузка модели\n",
    "restored_model_2 = tf.keras.models.load_model(cpt_path)\n",
    "results_2_1 = restored_model_2.evaluate(x_test, y_test)\n",
    "print('Test loss: {:.4f}'.format(results_2[0]))\n",
    "print('Test accuracy: {:.2f} %'.format(results_2[1]*100))"
   ]
  },
  {
   "cell_type": "code",
   "execution_count": null,
   "id": "60c73a14-1962-4b5a-b9d0-fb1ec6047fb2",
   "metadata": {},
   "outputs": [],
   "source": [
    "results = model.evaluate(x_test, y_test)\n",
    "print('Test loss: {:.4f}'.format(results[0]))\n",
    "print('Test accuracy: {:.2f} %'.format(results[1]*100))"
   ]
  },
  {
   "cell_type": "code",
   "execution_count": null,
   "id": "1458e724-4297-4478-96ba-3041eca1c246",
   "metadata": {},
   "outputs": [],
   "source": [
    "plots(history_2)"
   ]
  },
  {
   "cell_type": "code",
   "execution_count": null,
   "id": "e9f31778-8e8a-4582-94ca-3334f328030b",
   "metadata": {},
   "outputs": [],
   "source": []
  },
  {
   "cell_type": "markdown",
   "id": "edb2b4b9-dc8e-47fa-b150-9977dbc2b2ba",
   "metadata": {
    "tags": []
   },
   "source": [
    "#### 3.2.2 Через Bag of words"
   ]
  },
  {
   "cell_type": "code",
   "execution_count": null,
   "id": "2ddb7bf5-1791-44b9-9c96-c4fbc8e62c54",
   "metadata": {},
   "outputs": [],
   "source": [
    "# сохранение модели\n",
    "dir_path = pathlib.Path.home()\n",
    "cpt_filename = \"best_checkpoint_2_2.hdf5\"  \n",
    "cpt_path =str(dir_path / cpt_filename)"
   ]
  },
  {
   "cell_type": "code",
   "execution_count": null,
   "id": "8d861c42-da0e-421c-9cfd-e7af7f47c39c",
   "metadata": {
    "tags": []
   },
   "outputs": [],
   "source": [
    "# сохранение модели  \n",
    "#cpt_path = \"best_checkpoint_2_2.hdf5\"\n",
    "\n",
    "if os.path.isfile(cpt_path): # удаление файла, если есть\n",
    "    os.remove(cpt_path)\n",
    "        \n",
    "checkpoint = tf.keras.callbacks.ModelCheckpoint(cpt_path, monitor='val_sparse_categorical_accuracy', verbose=1, save_best_only=True, mode='max')\n",
    "\n",
    "# определение модели \n",
    "model = tf.keras.Sequential([\n",
    "    tf.keras.layers.Embedding(VOCAB_SIZE + 1, EMB_SIZE, trainable=False),\n",
    "    tf.keras.layers.LSTM(NEURONS, return_sequences=False),\n",
    "    tf.keras.layers.Dense(N, activation=tf.nn.softmax),\n",
    "])\n",
    "\n",
    "model.summary()"
   ]
  },
  {
   "cell_type": "code",
   "execution_count": null,
   "id": "d4001e21-50f0-42ef-b2e1-ca95cd2559f2",
   "metadata": {
    "tags": []
   },
   "outputs": [],
   "source": [
    "# определение оптимизатора\n",
    "optimizer = tf.keras.optimizers.Adam(learning_rate=LEARNING_RATE) \n",
    "\n",
    "# определение функционала ошибки\n",
    "loss = tf.keras.losses.SparseCategoricalCrossentropy(from_logits=False)\n",
    "\n",
    "# сборка модели\n",
    "model.compile(optimizer=optimizer, loss=loss, metrics=[\"sparse_categorical_accuracy\"]) \n",
    "\n",
    "# обучение модели\n",
    "history_2 = model.fit(x_train, y_train, validation_data=(x_test, y_test), epochs=NUM_EPOCHS, verbose=1, batch_size=BATCH_SIZE, shuffle=True, callbacks=[checkpoint])"
   ]
  },
  {
   "cell_type": "code",
   "execution_count": null,
   "id": "9df4a8bc-d922-4ecd-972a-4b8c1d41feb6",
   "metadata": {},
   "outputs": [],
   "source": [
    "# загрузка модели\n",
    "restored_model_2 = tf.keras.models.load_model(cpt_path)\n",
    "results_2_2 = restored_model_2.evaluate(x_test, y_test)\n",
    "print('Test loss: {:.4f}'.format(results_2[0]))\n",
    "print('Test accuracy: {:.2f} %'.format(results_2[1]*100))"
   ]
  },
  {
   "cell_type": "code",
   "execution_count": null,
   "id": "5a941628-48ac-4f22-925a-d3298bf9ead8",
   "metadata": {},
   "outputs": [],
   "source": [
    "results = model.evaluate(x_test, y_test)\n",
    "print('Test loss: {:.4f}'.format(results[0]))\n",
    "print('Test accuracy: {:.2f} %'.format(results[1]*100))"
   ]
  },
  {
   "cell_type": "code",
   "execution_count": null,
   "id": "e2951903-675b-445a-9b47-0713d47a45eb",
   "metadata": {},
   "outputs": [],
   "source": [
    "plots(history_2)"
   ]
  },
  {
   "cell_type": "code",
   "execution_count": null,
   "id": "7739506c-ab1e-4f74-9a0a-f6d9f619000a",
   "metadata": {},
   "outputs": [],
   "source": []
  },
  {
   "cell_type": "markdown",
   "id": "d8669d41-248a-478a-a815-c718e80ac263",
   "metadata": {
    "tags": []
   },
   "source": [
    "#### 3.2.3 word2vec"
   ]
  },
  {
   "cell_type": "code",
   "execution_count": null,
   "id": "5055939e-f9f3-40b5-99ef-75507afec3c9",
   "metadata": {},
   "outputs": [],
   "source": [
    "# сохранение модели\n",
    "dir_path = pathlib.Path.home()\n",
    "cpt_filename = \"best_checkpoint_2_3.hdf5\"  \n",
    "cpt_path =str(dir_path / cpt_filename)"
   ]
  },
  {
   "cell_type": "code",
   "execution_count": null,
   "id": "8e7750ea-1ed8-4ade-8f9e-34806de2f408",
   "metadata": {
    "tags": []
   },
   "outputs": [],
   "source": [
    "# сохранение модели \n",
    "#cpt_path = \"best_checkpoint_2_3.hdf5\"\n",
    "\n",
    "if os.path.isfile(cpt_path): # удаление файла, если есть\n",
    "    os.remove(cpt_path)\n",
    "        \n",
    "checkpoint = tf.keras.callbacks.ModelCheckpoint(cpt_path, monitor='val_sparse_categorical_accuracy', verbose=1, save_best_only=True, mode='max')\n",
    "\n",
    "# определение модели \n",
    "model = tf.keras.Sequential([\n",
    "    tf.keras.layers.Embedding(VOCAB_SIZE + 1, EMB_SIZE, weights=[embedding_matrix_w2v], trainable=False),\n",
    "    tf.keras.layers.LSTM(NEURONS, return_sequences=False),\n",
    "    tf.keras.layers.Dense(N, activation=tf.nn.softmax),\n",
    "])\n",
    "\n",
    "model.summary()"
   ]
  },
  {
   "cell_type": "code",
   "execution_count": null,
   "id": "f3353a45-3e3d-485b-ab84-bcee52f5e338",
   "metadata": {
    "tags": []
   },
   "outputs": [],
   "source": [
    "# определение оптимизатора\n",
    "optimizer = tf.keras.optimizers.Adam(learning_rate=LEARNING_RATE) \n",
    "\n",
    "# определение функционала ошибки\n",
    "loss = tf.keras.losses.SparseCategoricalCrossentropy(from_logits=False)\n",
    "\n",
    "# сборка модели\n",
    "model.compile(optimizer=optimizer, loss=loss, metrics=[\"sparse_categorical_accuracy\"]) \n",
    "\n",
    "# обучение модели\n",
    "history_2 = model.fit(x_train, y_train, validation_data=(x_test, y_test), epochs=NUM_EPOCHS, verbose=1, batch_size=BATCH_SIZE, shuffle=True, callbacks=[checkpoint])"
   ]
  },
  {
   "cell_type": "code",
   "execution_count": null,
   "id": "387001e9-d0f9-44f5-9776-5c590b146380",
   "metadata": {},
   "outputs": [],
   "source": [
    "# загрузка модели\n",
    "restored_model_2 = tf.keras.models.load_model(cpt_path)\n",
    "results_2_3 = restored_model_2.evaluate(x_test, y_test)\n",
    "print('Test loss: {:.4f}'.format(results_2[0]))\n",
    "print('Test accuracy: {:.2f} %'.format(results_2[1]*100))"
   ]
  },
  {
   "cell_type": "code",
   "execution_count": null,
   "id": "6a5e1d3f-2017-459c-8e3d-82cd67cc1852",
   "metadata": {},
   "outputs": [],
   "source": [
    "results = model.evaluate(x_test, y_test)\n",
    "print('Test loss: {:.4f}'.format(results[0]))\n",
    "print('Test accuracy: {:.2f} %'.format(results[1]*100))"
   ]
  },
  {
   "cell_type": "code",
   "execution_count": null,
   "id": "10750d8e-9b59-4243-8a01-561da69a39b4",
   "metadata": {},
   "outputs": [],
   "source": [
    "plots(history_2)"
   ]
  },
  {
   "cell_type": "code",
   "execution_count": null,
   "id": "375c415f-1252-4e17-a608-c9c3160f3da3",
   "metadata": {},
   "outputs": [],
   "source": []
  },
  {
   "cell_type": "markdown",
   "id": "155db013-8263-4529-81a1-9dcb7c8d12b9",
   "metadata": {
    "tags": []
   },
   "source": [
    "#### 3.2.4 fasttext"
   ]
  },
  {
   "cell_type": "code",
   "execution_count": null,
   "id": "76d634d8-e766-43c2-a53d-508ac34df0df",
   "metadata": {},
   "outputs": [],
   "source": [
    "# сохранение модели\n",
    "dir_path = pathlib.Path.home()\n",
    "cpt_filename = \"best_checkpoint_2_4.hdf5\"  \n",
    "cpt_path =str(dir_path / cpt_filename)"
   ]
  },
  {
   "cell_type": "code",
   "execution_count": null,
   "id": "4040cba0-385f-467e-8657-c078e43d5ccd",
   "metadata": {
    "tags": []
   },
   "outputs": [],
   "source": [
    "# сохранение модели\n",
    "#cpt_path = \"best_checkpoint_2_4.hdf5\"  \n",
    "\n",
    "if os.path.isfile(cpt_path): # удаление файла, если есть\n",
    "    os.remove(cpt_path)\n",
    "        \n",
    "checkpoint = tf.keras.callbacks.ModelCheckpoint(cpt_path, monitor='val_sparse_categorical_accuracy', verbose=1, save_best_only=True, mode='max')\n",
    "\n",
    "# определение модели \n",
    "model = tf.keras.Sequential([\n",
    "    tf.keras.layers.Embedding(VOCAB_SIZE + 1, EMB_SIZE, weights=[embedding_matrix_ft], trainable=False),\n",
    "    tf.keras.layers.LSTM(NEURONS, return_sequences=False),\n",
    "    tf.keras.layers.Dense(N, activation=tf.nn.softmax),\n",
    "])\n",
    "\n",
    "model.summary()"
   ]
  },
  {
   "cell_type": "code",
   "execution_count": null,
   "id": "d7a2eccb-224b-408f-8e55-618ecc2275f3",
   "metadata": {
    "tags": []
   },
   "outputs": [],
   "source": [
    "# определение оптимизатора\n",
    "optimizer = tf.keras.optimizers.Adam(learning_rate=LEARNING_RATE) \n",
    "\n",
    "# определение функционала ошибки\n",
    "loss = tf.keras.losses.SparseCategoricalCrossentropy(from_logits=False)\n",
    "\n",
    "# сборка модели\n",
    "model.compile(optimizer=optimizer, loss=loss, metrics=[\"sparse_categorical_accuracy\"]) \n",
    "\n",
    "# обучение модели\n",
    "history_2 = model.fit(x_train, y_train, validation_data=(x_test, y_test), epochs=NUM_EPOCHS, verbose=1, batch_size=BATCH_SIZE, shuffle=True, callbacks=[checkpoint])"
   ]
  },
  {
   "cell_type": "code",
   "execution_count": null,
   "id": "d540723f-a209-470e-be18-6dbb614c179b",
   "metadata": {},
   "outputs": [],
   "source": [
    "# загрузка модели\n",
    "restored_model_2 = tf.keras.models.load_model(cpt_path)\n",
    "results_2_4 = restored_model_2.evaluate(x_test, y_test)\n",
    "print('Test loss: {:.4f}'.format(results_2[0]))\n",
    "print('Test accuracy: {:.2f} %'.format(results_2[1]*100))"
   ]
  },
  {
   "cell_type": "code",
   "execution_count": null,
   "id": "86c7a9bf-a1df-4b7c-be33-7869a8fa0248",
   "metadata": {},
   "outputs": [],
   "source": [
    "results = model.evaluate(x_test, y_test)\n",
    "print('Test loss: {:.4f}'.format(results[0]))\n",
    "print('Test accuracy: {:.2f} %'.format(results[1]*100))"
   ]
  },
  {
   "cell_type": "code",
   "execution_count": null,
   "id": "d0a84d03-076c-4c8e-9fc6-5bc19d8c84cd",
   "metadata": {},
   "outputs": [],
   "source": [
    "plots(history_2)"
   ]
  },
  {
   "cell_type": "code",
   "execution_count": null,
   "id": "6e38f9b5-4dbf-44fa-a2bb-cdfbe19e4d8e",
   "metadata": {},
   "outputs": [],
   "source": []
  },
  {
   "cell_type": "markdown",
   "id": "808e559e-737d-4d71-af06-71070363850f",
   "metadata": {},
   "source": [
    "### 3.3 Рекуррентная сеть через LSTM слой с регуляризацией"
   ]
  },
  {
   "cell_type": "markdown",
   "id": "b52994e4-a0fb-430e-bc7b-c9159c997db9",
   "metadata": {},
   "source": [
    "#### 3.3.1 Через эмбеддинг"
   ]
  },
  {
   "cell_type": "code",
   "execution_count": null,
   "id": "0a73d1b5-a248-4783-b870-e44417ce3575",
   "metadata": {},
   "outputs": [],
   "source": [
    "DROPOUT = 0.5 # можно оптимизировать\n",
    "RECCURENT_DROPOUT = 0.5 # можно оптимизировать"
   ]
  },
  {
   "cell_type": "code",
   "execution_count": null,
   "id": "2210aaf0-1730-4913-bceb-a0a01f7eb307",
   "metadata": {},
   "outputs": [],
   "source": [
    "# сохранение модели\n",
    "dir_path = pathlib.Path.home()\n",
    "cpt_filename = \"best_checkpoint_3.hdf5\"  \n",
    "cpt_path =str(dir_path / cpt_filename)"
   ]
  },
  {
   "cell_type": "code",
   "execution_count": null,
   "id": "921b5668-9698-4968-9028-206a8e93b77d",
   "metadata": {},
   "outputs": [],
   "source": [
    "# сохранение модели \n",
    "#cpt_path = \"best_checkpoint_3.hdf5\"  \n",
    "\n",
    "if os.path.isfile(cpt_path): # удаление файла, если есть\n",
    "    os.remove(cpt_path)\n",
    "        \n",
    "checkpoint = tf.keras.callbacks.ModelCheckpoint(cpt_path, monitor='val_sparse_categorical_accuracy', verbose=1, save_best_only=True, mode='max')\n",
    "\n",
    "# определение модели \n",
    "model = tf.keras.Sequential([\n",
    "    tf.keras.layers.Embedding(VOCAB_SIZE + 1, EMB_SIZE),\n",
    "    tf.keras.layers.LSTM(NEURONS, return_sequences=False, dropout=DROPOUT, recurrent_dropout=RECCURENT_DROPOUT),\n",
    "    tf.keras.layers.Dense(N, activation=tf.nn.softmax),\n",
    "])\n",
    "\n",
    "model.summary()"
   ]
  },
  {
   "cell_type": "code",
   "execution_count": null,
   "id": "daf3377e-8078-40ed-b079-81c00bb80020",
   "metadata": {
    "tags": []
   },
   "outputs": [],
   "source": [
    "# определение оптимизатора\n",
    "optimizer = tf.keras.optimizers.Adam(learning_rate=LEARNING_RATE) \n",
    "\n",
    "# определение функционала ошибки\n",
    "loss = tf.keras.losses.SparseCategoricalCrossentropy(from_logits=False)\n",
    "\n",
    "# сборка модели\n",
    "model.compile(optimizer=optimizer, loss=loss, metrics=[\"sparse_categorical_accuracy\"]) \n",
    "\n",
    "# обучение модели\n",
    "history_3 = model.fit(x_train, y_train, validation_data=(x_test, y_test), epochs=NUM_EPOCHS, verbose=1, batch_size=BATCH_SIZE, shuffle=True, callbacks=[checkpoint])"
   ]
  },
  {
   "cell_type": "code",
   "execution_count": null,
   "id": "fb0ba972-8ed3-4908-9c3f-c47cafd0a22a",
   "metadata": {},
   "outputs": [],
   "source": [
    "# загрузка модели\n",
    "restored_model_3 = tf.keras.models.load_model(cpt_path)\n",
    "results_3 = restored_model_3.evaluate(x_test, y_test)\n",
    "print('Test loss: {:.4f}'.format(results_3[0]))\n",
    "print('Test accuracy: {:.2f} %'.format(results_3[1]*100))"
   ]
  },
  {
   "cell_type": "code",
   "execution_count": null,
   "id": "1e9197d2-71c4-46f5-8874-a500f75e90f0",
   "metadata": {},
   "outputs": [],
   "source": [
    "results = model.evaluate(x_test, y_test)\n",
    "print('Test loss: {:.4f}'.format(results[0]))\n",
    "print('Test accuracy: {:.2f} %'.format(results[1]*100))"
   ]
  },
  {
   "cell_type": "code",
   "execution_count": null,
   "id": "bed30178-2131-44dd-8e1a-7435397b4aa4",
   "metadata": {},
   "outputs": [],
   "source": [
    "plots(history_3)"
   ]
  },
  {
   "cell_type": "code",
   "execution_count": null,
   "id": "7d34ad3f-4198-4574-a69c-3362b54dac4a",
   "metadata": {},
   "outputs": [],
   "source": []
  },
  {
   "cell_type": "markdown",
   "id": "039e0c03-4dfc-4876-931b-3a5e7bd2cdb8",
   "metadata": {},
   "source": [
    "### 3.4 Рекуррентная сеть с двумя LSTM слоями с регуляризацией"
   ]
  },
  {
   "cell_type": "markdown",
   "id": "8511c6e5-7b08-4825-9493-03015034bb72",
   "metadata": {},
   "source": [
    "#### 3.4.1 Через эмбеддинг"
   ]
  },
  {
   "cell_type": "code",
   "execution_count": null,
   "id": "7de04e6e-86da-4272-a1b3-9ed4a3f7a9f0",
   "metadata": {},
   "outputs": [],
   "source": [
    "# сохранение модели\n",
    "dir_path = pathlib.Path.home()\n",
    "cpt_filename = \"best_checkpoint_4.hdf5\"  \n",
    "cpt_path =str(dir_path / cpt_filename)"
   ]
  },
  {
   "cell_type": "code",
   "execution_count": null,
   "id": "ac3417b2-064d-485b-bf22-b527703aa2b4",
   "metadata": {},
   "outputs": [],
   "source": [
    "# сохранение модели\n",
    "#cpt_path = \"best_checkpoint_4.hdf5\"  \n",
    "\n",
    "if os.path.isfile(cpt_path): # удаление файла, если есть\n",
    "    os.remove(cpt_path)\n",
    "        \n",
    "checkpoint = tf.keras.callbacks.ModelCheckpoint(cpt_path, monitor='val_sparse_categorical_accuracy', verbose=1, save_best_only=True, mode='max')\n",
    "\n",
    "# определение модели \n",
    "model = tf.keras.Sequential([\n",
    "    tf.keras.layers.Embedding(VOCAB_SIZE + 1, EMB_SIZE),\n",
    "    tf.keras.layers.LSTM(NEURONS, return_sequences=True, dropout=DROPOUT, recurrent_dropout=RECCURENT_DROPOUT),\n",
    "    tf.keras.layers.LSTM(NEURONS, return_sequences=False, dropout=DROPOUT, recurrent_dropout=RECCURENT_DROPOUT),\n",
    "    tf.keras.layers.Dense(N, activation=tf.nn.softmax),\n",
    "])\n",
    "\n",
    "model.summary()"
   ]
  },
  {
   "cell_type": "code",
   "execution_count": null,
   "id": "46b5fe47-7769-4cdc-998c-4a9774e67478",
   "metadata": {
    "tags": []
   },
   "outputs": [],
   "source": [
    "# определение оптимизатора\n",
    "optimizer = tf.keras.optimizers.Adam(learning_rate=LEARNING_RATE) \n",
    "\n",
    "# определение функционала ошибки\n",
    "loss = tf.keras.losses.SparseCategoricalCrossentropy(from_logits=False)\n",
    "\n",
    "# сборка модели\n",
    "model.compile(optimizer=optimizer, loss=loss, metrics=[\"sparse_categorical_accuracy\"]) \n",
    "\n",
    "# обучение модели\n",
    "history_4 = model.fit(x_train, y_train, validation_data=(x_test, y_test), epochs=NUM_EPOCHS, verbose=1, batch_size=BATCH_SIZE, shuffle=True, callbacks=[checkpoint])"
   ]
  },
  {
   "cell_type": "code",
   "execution_count": null,
   "id": "5793d5a9-c026-4c7e-98b3-b789a9a2f7b7",
   "metadata": {},
   "outputs": [],
   "source": [
    "# загрузка модели\n",
    "restored_model_4 = tf.keras.models.load_model(cpt_path)\n",
    "results_4 = restored_model_4.evaluate(x_test, y_test)\n",
    "print('Test loss: {:.4f}'.format(results_4[0]))\n",
    "print('Test accuracy: {:.2f} %'.format(results_4[1]*100))"
   ]
  },
  {
   "cell_type": "code",
   "execution_count": null,
   "id": "942a452a-9977-453f-b951-912c5b32feb2",
   "metadata": {},
   "outputs": [],
   "source": [
    "results = model.evaluate(x_test, y_test)\n",
    "print('Test loss: {:.4f}'.format(results[0]))\n",
    "print('Test accuracy: {:.2f} %'.format(results[1]*100))"
   ]
  },
  {
   "cell_type": "code",
   "execution_count": null,
   "id": "b77ae7ca-5c1a-4f21-baa3-787dda9fa084",
   "metadata": {},
   "outputs": [],
   "source": [
    "plots(history_4)"
   ]
  },
  {
   "cell_type": "code",
   "execution_count": null,
   "id": "c7e815d4-54a7-468b-b0ff-a9b1923ea190",
   "metadata": {},
   "outputs": [],
   "source": []
  },
  {
   "cell_type": "markdown",
   "id": "b3638089-12a2-47af-b71b-0839b063b751",
   "metadata": {},
   "source": [
    "### 3.5 Двухнаправленная Рекуррентная сеть с двумя LSTM слоями с регуляризацией"
   ]
  },
  {
   "cell_type": "markdown",
   "id": "65850f5a-9b66-4966-b770-13429ff0de22",
   "metadata": {},
   "source": [
    "#### 3.5.1 Через эмбеддинг"
   ]
  },
  {
   "cell_type": "code",
   "execution_count": null,
   "id": "4f47f7d7-4750-40a3-9e42-da413d1de001",
   "metadata": {},
   "outputs": [],
   "source": [
    "# сохранение модели\n",
    "dir_path = pathlib.Path.home()\n",
    "cpt_filename = \"best_checkpoint_5.hdf5\"  \n",
    "cpt_path =str(dir_path / cpt_filename)"
   ]
  },
  {
   "cell_type": "code",
   "execution_count": null,
   "id": "6ee0326f-379d-41a6-8317-e61785168704",
   "metadata": {
    "tags": []
   },
   "outputs": [],
   "source": [
    "# сохранение модели\n",
    "#cpt_path = \"best_checkpoint_5.hdf5\" \n",
    "\n",
    "if os.path.isfile(cpt_path): # удаление файла, если есть\n",
    "    os.remove(cpt_path)\n",
    "        \n",
    "checkpoint = tf.keras.callbacks.ModelCheckpoint(cpt_path, monitor='val_sparse_categorical_accuracy', verbose=1, save_best_only=True, mode='max')\n",
    "\n",
    "# определение модели \n",
    "model = tf.keras.Sequential([\n",
    "    tf.keras.layers.Embedding(VOCAB_SIZE + 1, EMB_SIZE),\n",
    "    tf.keras.layers.Bidirectional(\n",
    "        tf.keras.layers.LSTM(NEURONS, return_sequences=True, dropout=DROPOUT, recurrent_dropout=RECCURENT_DROPOUT)),\n",
    "    tf.keras.layers.Bidirectional(\n",
    "        tf.keras.layers.LSTM(NEURONS, return_sequences=False, dropout=DROPOUT, recurrent_dropout=RECCURENT_DROPOUT)),\n",
    "    tf.keras.layers.Dense(N, activation=tf.nn.softmax),\n",
    "])\n",
    "\n",
    "model.summary()"
   ]
  },
  {
   "cell_type": "code",
   "execution_count": null,
   "id": "0e0f4a72-5648-42cd-84ff-4ba4ca156b72",
   "metadata": {
    "tags": []
   },
   "outputs": [],
   "source": [
    "# определение оптимизатора\n",
    "optimizer = tf.keras.optimizers.Adam(learning_rate=LEARNING_RATE) \n",
    "\n",
    "# определение функционала ошибки\n",
    "loss = tf.keras.losses.SparseCategoricalCrossentropy(from_logits=False)\n",
    "\n",
    "# сборка модели\n",
    "model.compile(optimizer=optimizer, loss=loss, metrics=[\"sparse_categorical_accuracy\"]) \n",
    "\n",
    "# обучение модели\n",
    "history_5 = model.fit(x_train, y_train, validation_data=(x_test, y_test), epochs=NUM_EPOCHS, verbose=1, batch_size=BATCH_SIZE, shuffle=True, callbacks=[checkpoint])"
   ]
  },
  {
   "cell_type": "code",
   "execution_count": null,
   "id": "bf5c827b-a616-4881-9c7b-439b41117f16",
   "metadata": {},
   "outputs": [],
   "source": [
    "# загрузка модели\n",
    "restored_model_5 = tf.keras.models.load_model(cpt_path)\n",
    "results_5 = restored_model_5.evaluate(x_test, y_test)\n",
    "print('Test loss: {:.4f}'.format(results_5[0]))\n",
    "print('Test accuracy: {:.2f} %'.format(results_5[1]*100))"
   ]
  },
  {
   "cell_type": "code",
   "execution_count": null,
   "id": "510f871b-6689-4591-91c2-6cc53bbc1b33",
   "metadata": {},
   "outputs": [],
   "source": [
    "results = model.evaluate(x_test, y_test)\n",
    "print('Test loss: {:.4f}'.format(results[0]))\n",
    "print('Test accuracy: {:.2f} %'.format(results[1]*100))"
   ]
  },
  {
   "cell_type": "code",
   "execution_count": null,
   "id": "23574df7-12f5-456b-84ad-641b0de76164",
   "metadata": {
    "tags": []
   },
   "outputs": [],
   "source": [
    "plots(history_5)"
   ]
  },
  {
   "cell_type": "code",
   "execution_count": null,
   "id": "c85dd0dd-4585-4465-b88f-25e2d23c5e7b",
   "metadata": {},
   "outputs": [],
   "source": []
  },
  {
   "cell_type": "markdown",
   "id": "cc71907b-2947-48af-bbdf-768fdaac376f",
   "metadata": {},
   "source": [
    "## 4. Сравнение"
   ]
  },
  {
   "cell_type": "code",
   "execution_count": null,
   "id": "aec4e97c-14a8-465e-833b-5a253e073fba",
   "metadata": {},
   "outputs": [],
   "source": [
    "results = [results_1_1[1]*100, results_1_2[1]*100, results_2_1[1]*100, results_2_2[1]*100, results_2_3[1]*100, results_2_4[1]*100, results_3[1]*100, results_4[1]*100, results_5[1]*100]\n",
    "index = np.arange(len(results))\n",
    "results"
   ]
  },
  {
   "attachments": {
    "ccf70232-497f-4c62-993d-1ab29e96ce6c.png": {
     "image/png": "[encoded data removed]"
    }
   },
   "cell_type": "markdown",
   "id": "a8501a2b-0879-457d-8e96-a22cc9d048fd",
   "metadata": {},
   "source": [
    "![image.png](attachment:ccf70232-497f-4c62-993d-1ab29e96ce6c.png)"
   ]
  },
  {
   "cell_type": "code",
   "execution_count": 22,
   "id": "53fde593-0289-428b-a36a-498ec4afce35",
   "metadata": {},
   "outputs": [
    {
     "data": {
      "text/plain": [
       "[55.18, 57.84, 47.94, 25.13, 41.55, 41.57, 54.84, 53.59, 55.02]"
      ]
     },
     "execution_count": 22,
     "metadata": {},
     "output_type": "execute_result"
    }
   ],
   "source": [
    "results = [55.18, 57.84, 47.94, 25.13, 41.55, 41.57, 54.84, 53.59, 55.02]\n",
    "index = np.arange(len(results))\n",
    "results"
   ]
  },
  {
   "cell_type": "code",
   "execution_count": 24,
   "id": "d2cad62d-087b-402c-a0fe-7fc0d1dd81d4",
   "metadata": {},
   "outputs": [
    {
     "data": {
      "image/png": "[encoded data removed]",
      "text/plain": [
       "<Figure size 720x360 with 1 Axes>"
      ]
     },
     "metadata": {
      "needs_background": "light"
     },
     "output_type": "display_data"
    }
   ],
   "source": [
    "plt.figure(figsize=(10, 5))\n",
    "plt.bar(index, results)\n",
    "plt.title('Validation accuracy')\n",
    "plt.xticks(index - 1,['Обычная сеть прямого распространения (эмбеддинг)', \n",
    "                      'Обычная сеть прямого распространения (bag of words)',\n",
    "'Рекуррентная сеть (р.с.) через LSTM слой (эмбеддинг)',\n",
    "'Рекуррентная сеть (р.с.) через LSTM слой (bag of words)',\n",
    "'Рекуррентная сеть (р.с.) через LSTM слой (word2vec)',\n",
    "'Рекуррентная сеть (р.с.) через LSTM слой (fasttext)',                      \n",
    "'р.с. через LSTM слой с регуляризацией',\n",
    "'р.с. с двумя LSTM слоями с регуляризацией',\n",
    "'Двухнаправленная р.с. с двумя LSTM слоями с регуляризацией'], rotation = 70, fontsize = 15)\n",
    "plt.yticks(fontsize = 15)\n",
    "plt.ylim([20, 60])\n",
    "plt.xlabel('Model', fontsize = 15)\n",
    "plt.ylabel('Accuracy', fontsize = 15)\n",
    "plt.grid()"
   ]
  },
  {
   "cell_type": "code",
   "execution_count": null,
   "id": "afdadc31-7241-4f88-a00d-2a893b1b3720",
   "metadata": {},
   "outputs": [],
   "source": []
  },
  {
   "cell_type": "code",
   "execution_count": null,
   "id": "c205eab6-0515-4a04-984a-4acd101d52dc",
   "metadata": {},
   "outputs": [],
   "source": []
  }
 ],
 "metadata": {
  "kernelspec": {
   "display_name": "Python 3 (ipykernel)",
   "language": "python",
   "name": "python3"
  },
  "language_info": {
   "codemirror_mode": {
    "name": "ipython",
    "version": 3
   },
   "file_extension": ".py",
   "mimetype": "text/x-python",
   "name": "python",
   "nbconvert_exporter": "python",
   "pygments_lexer": "ipython3",
   "version": "3.8.2"
  },
  "toc-autonumbering": true,
  "toc-showcode": false,
  "toc-showmarkdowntxt": false,
  "toc-showtags": true
 },
 "nbformat": 4,
 "nbformat_minor": 5
}
